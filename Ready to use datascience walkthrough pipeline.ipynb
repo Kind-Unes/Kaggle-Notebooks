{
 "cells": [
  {
   "cell_type": "code",
   "execution_count": 1,
   "metadata": {
    "execution": {
     "iopub.execute_input": "2021-03-07T09:48:36.372534Z",
     "iopub.status.busy": "2021-03-07T09:48:36.371686Z",
     "iopub.status.idle": "2021-03-07T09:48:37.474363Z",
     "shell.execute_reply": "2021-03-07T09:48:37.472760Z"
    },
    "papermill": {
     "duration": 1.158105,
     "end_time": "2021-03-07T09:48:37.474499",
     "exception": false,
     "start_time": "2021-03-07T09:48:36.316394",
     "status": "completed"
    },
    "tags": []
   },
   "outputs": [],
   "source": [
    "import wandb\n",
    "import os\n",
    "os.environ[\"WANDB_SILENT\"] = \"true\"\n",
    "\n",
    "from kaggle_secrets import UserSecretsClient\n",
    "user_secrets = UserSecretsClient()\n",
    "personal_key_for_api = user_secrets.get_secret(\"key_for_api\")"
   ]
  },
  {
   "cell_type": "code",
   "execution_count": 2,
   "metadata": {
    "execution": {
     "iopub.execute_input": "2021-03-07T09:48:37.581938Z",
     "iopub.status.busy": "2021-03-07T09:48:37.581067Z",
     "iopub.status.idle": "2021-03-07T09:48:40.055890Z",
     "shell.execute_reply": "2021-03-07T09:48:40.055290Z"
    },
    "papermill": {
     "duration": 2.530612,
     "end_time": "2021-03-07T09:48:40.056065",
     "exception": false,
     "start_time": "2021-03-07T09:48:37.525453",
     "status": "completed"
    },
    "tags": []
   },
   "outputs": [],
   "source": [
    "# ! wandb login $personal_key_for_api"
   ]
  },
  {
   "cell_type": "markdown",
   "metadata": {
    "papermill": {
     "duration": 0.067631,
     "end_time": "2021-03-07T09:48:40.228500",
     "exception": false,
     "start_time": "2021-03-07T09:48:40.160869",
     "status": "completed"
    },
    "tags": []
   },
   "source": [
    "### Libraries 📚"
   ]
  },
  {
   "cell_type": "code",
   "execution_count": 3,
   "metadata": {
    "execution": {
     "iopub.execute_input": "2021-03-07T09:48:40.380923Z",
     "iopub.status.busy": "2021-03-07T09:48:40.379772Z",
     "iopub.status.idle": "2021-03-07T09:48:53.933700Z",
     "shell.execute_reply": "2021-03-07T09:48:53.933000Z"
    },
    "papermill": {
     "duration": 13.637744,
     "end_time": "2021-03-07T09:48:53.933851",
     "exception": false,
     "start_time": "2021-03-07T09:48:40.296107",
     "status": "completed"
    },
    "tags": []
   },
   "outputs": [
    {
     "data": {
      "image/png": "[encoded data removed]",
      "text/plain": [
       "<Figure size 360x72 with 1 Axes>"
      ]
     },
     "metadata": {
      "needs_background": "light"
     },
     "output_type": "display_data"
    }
   ],
   "source": [
    "# CPU Libraries\n",
    "import os\n",
    "import random\n",
    "import warnings\n",
    "import pandas as pd\n",
    "import numpy as np\n",
    "\n",
    "import seaborn as sns\n",
    "import networkx as nx\n",
    "import matplotlib.pyplot as plt\n",
    "%matplotlib inline\n",
    "\n",
    "from sklearn.preprocessing import LabelEncoder, OneHotEncoder\n",
    "from fancyimpute import KNN, IterativeImputer, SimpleFill, SoftImpute\\\n",
    "                        ,IterativeSVD, MatrixFactorization\\\n",
    "                        ,NuclearNormMinimization, BiScaler\n",
    "\n",
    "# GPU Libraries\n",
    "import cudf\n",
    "import cupy\n",
    "from cuml.experimental.preprocessing import MinMaxScaler\n",
    "\n",
    "seed = 123\n",
    "random.seed(seed)\n",
    "np.random.seed(seed)\n",
    "\n",
    "warnings.filterwarnings(\"ignore\", category=DeprecationWarning)\n",
    "warnings.filterwarnings(\"ignore\", category=UserWarning)\n",
    "warnings.filterwarnings(\"ignore\", category=FutureWarning)\n",
    "\n",
    "icecream = [\"#CCD4BF\", \"#E7CBA9\", \"#EEBAB2\", \"#F5F3E7\", \"#F5E2E4\"]\n",
    "sns.palplot(sns.color_palette(icecream))"
   ]
  },
  {
   "cell_type": "markdown",
   "metadata": {
    "papermill": {
     "duration": 0.055979,
     "end_time": "2021-03-07T09:48:54.047899",
     "exception": false,
     "start_time": "2021-03-07T09:48:53.991920",
     "status": "completed"
    },
    "tags": []
   },
   "source": [
    "### Custom Functions Below ⬇"
   ]
  },
  {
   "cell_type": "code",
   "execution_count": 4,
   "metadata": {
    "_kg_hide-input": true,
    "_kg_hide-output": true,
    "execution": {
     "iopub.execute_input": "2021-03-07T09:48:54.178548Z",
     "iopub.status.busy": "2021-03-07T09:48:54.177637Z",
     "iopub.status.idle": "2021-03-07T09:48:54.181174Z",
     "shell.execute_reply": "2021-03-07T09:48:54.180590Z"
    },
    "papermill": {
     "duration": 0.081551,
     "end_time": "2021-03-07T09:48:54.181289",
     "exception": false,
     "start_time": "2021-03-07T09:48:54.099738",
     "status": "completed"
    },
    "tags": []
   },
   "outputs": [],
   "source": [
    "# https://towardsdatascience.com/better-heatmaps-and-correlation-matrix-plots-in-python-41445d0f2bec\n",
    "    \n",
    "def heatmap(x, y, size, color):\n",
    "    fig, ax = plt.subplots()\n",
    "    \n",
    "    # Mapping from column names to integer coordinates\n",
    "    x_labels = [v for v in sorted(x.unique())]\n",
    "    y_labels = [v for v in sorted(y.unique())]\n",
    "    x_to_num = {p[1]:p[0] for p in enumerate(x_labels)} \n",
    "    y_to_num = {p[1]:p[0] for p in enumerate(y_labels)} \n",
    "    \n",
    "    size_scale = 500\n",
    "    ax.scatter(\n",
    "        x=x.map(x_to_num), # Use mapping for x\n",
    "        y=y.map(y_to_num), # Use mapping for y\n",
    "        s=size * size_scale, # Vector of square sizes, proportional to size parameter\n",
    "        marker='s' # Use square as scatterplot marker\n",
    "    )\n",
    "    \n",
    "    # Show column labels on the axes\n",
    "    ax.set_xticks([x_to_num[v] for v in x_labels])\n",
    "    ax.set_xticklabels(x_labels, rotation=45, horizontalalignment='right')\n",
    "    ax.set_yticks([y_to_num[v] for v in y_labels])\n",
    "    ax.set_yticklabels(y_labels)\n",
    "    \n",
    "    ax.grid(False, 'major')\n",
    "    ax.grid(True, 'minor')\n",
    "    ax.set_xticks([t + 0.5 for t in ax.get_xticks()], minor=True)\n",
    "    ax.set_yticks([t + 0.5 for t in ax.get_yticks()], minor=True)\n",
    "    \n",
    "    ax.set_xlim([-0.5, max([v for v in x_to_num.values()]) + 0.5]) \n",
    "    ax.set_ylim([-0.5, max([v for v in y_to_num.values()]) + 0.5])\n",
    "    \n",
    "    n_colors = 256 # Use 256 colors for the diverging color palette\n",
    "    palette = sns.diverging_palette(20, 220, n=n_colors) # Create the palette\n",
    "    color_min, color_max = [-1, 1] # Range of values that will be mapped to the palette, i.e. min and max possible correlation\n",
    "\n",
    "    def value_to_color(val):\n",
    "        val_position = float((val - color_min)) / (color_max - color_min) # position of value in the input range, relative to the length of the input range\n",
    "        ind = int(val_position * (n_colors - 1)) # target index in the color palette\n",
    "        return palette[ind]\n",
    "\n",
    "    ax.scatter(\n",
    "        x=x.map(x_to_num),\n",
    "        y=y.map(y_to_num),\n",
    "        s=size * size_scale,\n",
    "        c=color.apply(value_to_color), # Vector of square color values, mapped to color palette\n",
    "        marker='s'\n",
    "    )"
   ]
  },
  {
   "cell_type": "code",
   "execution_count": 5,
   "metadata": {
    "execution": {
     "iopub.execute_input": "2021-03-07T09:48:54.308232Z",
     "iopub.status.busy": "2021-03-07T09:48:54.307309Z",
     "iopub.status.idle": "2021-03-07T09:48:54.310249Z",
     "shell.execute_reply": "2021-03-07T09:48:54.309637Z"
    },
    "papermill": {
     "duration": 0.077694,
     "end_time": "2021-03-07T09:48:54.310387",
     "exception": false,
     "start_time": "2021-03-07T09:48:54.232693",
     "status": "completed"
    },
    "tags": []
   },
   "outputs": [],
   "source": [
    "def inspect_missing_data(df, data_type=\"Train\"):\n",
    "    '''Insect missing patterns from data to assess next steps.'''\n",
    "    \n",
    "    print(\"--- {} ---\".format(data_type))\n",
    "    \n",
    "    missing_data = df.isna().sum().reset_index().sort_values(by=0, ascending=False)\n",
    "    no_missing = missing_data[missing_data[0] != 0].shape[0]\n",
    "    total_cols = df.shape[1]\n",
    "    total_rows = df.shape[0]\n",
    "    \n",
    "    missing_data.columns = [\"name\", \"missing appearences\"]\n",
    "    missing_data[\"%missing from total\"] = missing_data[missing_data[\"missing appearences\"]!=0][\"missing appearences\"]/total_rows\n",
    "    \n",
    "    too_much_miss = missing_data[missing_data[\"%missing from total\"] > 0.5].shape[0]\n",
    "    to_drop = missing_data[missing_data[\"%missing from total\"] > 0.5][\"name\"].to_array()\n",
    "    \n",
    "    print(\"There are {}/{} columns with missing data.\".format(no_missing, total_cols))\n",
    "    print(\"There are {}/{} columns with more than 50% missing data (these columns will be dropped)\".format(too_much_miss,\n",
    "                                                                                                           no_missing))\n",
    "    \n",
    "    return missing_data, to_drop\n",
    "\n",
    "\n",
    "\n",
    "def distplot_features(data, feature, categorical=False):\n",
    "    '''Takes a column from the GPU dataframe and plots the distribution (after count).\n",
    "    data: train + test vector'''\n",
    "    \n",
    "    values = []\n",
    "    for df in data:\n",
    "        if categorical:\n",
    "            values.append(cupy.asnumpy(df[feature].value_counts().values))\n",
    "        else:\n",
    "            values.append(cupy.asnumpy(df[feature].values))\n",
    "\n",
    "    print('Mean : train {:,} | test {:,}'.format(np.mean(values[0]), np.mean(values[1])), \"\\n\"\n",
    "      'Median : train {:,} | test {:,}'.format(np.median(values[0]), np.median(values[1])), \"\\n\"\n",
    "      'Min: : train {:,} | test {:,}'.format(np.min(values[0]), np.min(values[1])), \"\\n\"\n",
    "      'Max: : train {:,} | test {:,}'.format(np.max(values[0]), np.max(values[1])))\n",
    "    \n",
    "    plt.figure(figsize = (18, 3))\n",
    "    \n",
    "    fig = sns.distplot(values[0], hist=False, color = icecream[0], kde_kws = {'lw':4}, label=\"Train\")\n",
    "    fig = sns.distplot(values[1], hist=False, color = icecream[2], kde_kws = {'lw':4}, label=\"Test\")\n",
    "    \n",
    "    plt.title(f'{feature}', fontsize=15)\n",
    "    plt.legend()\n",
    "    plt.show();\n",
    "    \n",
    "    # Save to W&B\n",
    "    wandb.log({feature + \" Distribution\": fig})\n",
    "    \n",
    "    \n",
    "def to_int_cuda(x):\n",
    "    return cupy.int32(x)"
   ]
  },
  {
   "cell_type": "markdown",
   "metadata": {
    "papermill": {
     "duration": 0.050353,
     "end_time": "2021-03-07T09:48:54.411746",
     "exception": false,
     "start_time": "2021-03-07T09:48:54.361393",
     "status": "completed"
    },
    "tags": []
   },
   "source": [
    "# 2. Import Data 📀\n",
    "\n",
    "* `TrainingWiDS2021.csv` - train data.\n",
    "* `UnlabeledWiDS2021.csv` - test data; the variable to predict is `diabetes_mellitus` (on encounters).\n",
    "* `SolutionTemplateWiDS2021.csv` - a list of all the rows (and encounters) that should be in your submissions.\n",
    "* `DataDictionaryWiDS2021.csv` - columns descriptors.\n",
    "\n",
    "> There are 181 columns in total, with 160/181 containing some sort of missing information. Moreover, 74 out of these 160 columns have missing data more than 50% of the cases. Hence, we'll drop these, as attempting to do any sort of imputation might induce a big bias in the data."
   ]
  },
  {
   "cell_type": "code",
   "execution_count": 6,
   "metadata": {
    "execution": {
     "iopub.execute_input": "2021-03-07T09:48:54.528601Z",
     "iopub.status.busy": "2021-03-07T09:48:54.527879Z",
     "iopub.status.idle": "2021-03-07T09:49:07.291596Z",
     "shell.execute_reply": "2021-03-07T09:49:07.290761Z"
    },
    "papermill": {
     "duration": 12.829667,
     "end_time": "2021-03-07T09:49:07.291712",
     "exception": false,
     "start_time": "2021-03-07T09:48:54.462045",
     "status": "completed"
    },
    "tags": []
   },
   "outputs": [
    {
     "name": "stdout",
     "output_type": "stream",
     "text": [
      "Train : 130,157 rows and 181 columns \n",
      "Test : 10,234 rows and 180 columns \n",
      "\n",
      "--- Train ---\n",
      "There are 160/181 columns with missing data.\n",
      "There are 73/160 columns with more than 50% missing data (these columns will be dropped)\n",
      "--- Test ---\n",
      "There are 159/180 columns with missing data.\n",
      "There are 74/159 columns with more than 50% missing data (these columns will be dropped)\n",
      "! urineoutput_apache has more than 50% missingness in test, but not in train; nevetheless, we'll drop it in both.\n"
     ]
    }
   ],
   "source": [
    "# Read in data\n",
    "train = cudf.read_csv(\"../input/widsdatathon2021/TrainingWiDS2021.csv\")\n",
    "test = cudf.read_csv(\"../input/widsdatathon2021/UnlabeledWiDS2021.csv\")\n",
    "data = [train, test]\n",
    "\n",
    "print(\"Train : {:,} rows and {:,} columns\".format(train.shape[0], train.shape[1]), \"\\n\" + \n",
    "      \"Test : {:,} rows and {:,} columns\".format(test.shape[0], test.shape[1]), \"\\n\")\n",
    "\n",
    "\n",
    "# ~~~~~~~~~~~~~~~~~~~~~\n",
    "# Drop unwanted columns\n",
    "# ~~~~~~~~~~~~~~~~~~~~~\n",
    "_, to_drop_train = inspect_missing_data(df=train, data_type=\"Train\")\n",
    "_, to_drop_test = inspect_missing_data(df=test, data_type=\"Test\")\n",
    "# There is 1 more colum in test but not in train; we'll have to drop that as well in both datasets\n",
    "diff_test = next(iter(set(to_drop_test) - set(to_drop_train)))\n",
    "print(\"! {} has more than 50% missingness in test, but not in train; nevetheless, we'll drop it in both.\".format(diff_test))\n",
    "\n",
    "# Drop columns with more than 50% missingness\n",
    "train.drop(labels=to_drop_test, axis=1, inplace=True)\n",
    "test.drop(labels=to_drop_test, axis=1, inplace=True)\n",
    "# Drop other unnecessary columns\n",
    "to_drop = [\"Unnamed: 0\", \"hospital_id\"]\n",
    "train.drop(labels=to_drop, axis=1, inplace=True)\n",
    "test.drop(labels=to_drop, axis=1, inplace=True)\n",
    "\n",
    "# Save up the encounter_id and diabetes_mellitus (these are needed intact and will be appended later)\n",
    "encounter_id_train = train[\"encounter_id\"]\n",
    "encounter_id_test = test[\"encounter_id\"]\n",
    "diabetes_mellitus_train = train[\"diabetes_mellitus\"]\n",
    "\n",
    "diabetes_mellitus_train = cudf.DataFrame(diabetes_mellitus_train, \n",
    "                                         columns=[\"diabetes_mellitus\"])\n",
    "diabetes_mellitus_train.to_parquet(\"target_train.parquet\")\n",
    "\n",
    "train.drop(labels=[\"encounter_id\", \"diabetes_mellitus\"], axis=1, inplace=True)\n",
    "test.drop(labels=[\"encounter_id\"], axis=1, inplace=True)"
   ]
  },
  {
   "cell_type": "code",
   "execution_count": 7,
   "metadata": {
    "_kg_hide-output": true,
    "execution": {
     "iopub.execute_input": "2021-03-07T09:49:07.403774Z",
     "iopub.status.busy": "2021-03-07T09:49:07.403159Z",
     "iopub.status.idle": "2021-03-07T09:49:12.836009Z",
     "shell.execute_reply": "2021-03-07T09:49:12.834422Z"
    },
    "papermill": {
     "duration": 5.492516,
     "end_time": "2021-03-07T09:49:12.836154",
     "exception": false,
     "start_time": "2021-03-07T09:49:07.343638",
     "status": "completed"
    },
    "tags": []
   },
   "outputs": [
    {
     "data": {
      "application/vnd.jupyter.widget-view+json": {
       "model_id": "1e17266ceed141ceb109ebab232b55b7",
       "version_major": 2,
       "version_minor": 0
      },
      "text/plain": [
       "VBox(children=(Label(value=' 0.00MB of 0.00MB uploaded (0.00MB deduped)\\r'), FloatProgress(value=1.0, max=1.0)…"
      ]
     },
     "metadata": {},
     "output_type": "display_data"
    }
   ],
   "source": [
    "# Let's save the original datasets!\n",
    "### wel'll save them as artifacts:\n",
    "### artifacts can be datasets, models and much more!\n",
    "run = wandb.init(project='wids-datathon-kaggle', name='save-original-data')\n",
    "artifact = wandb.Artifact(name='original-train-test-data', \n",
    "                          type='dataset')\n",
    "\n",
    "artifact.add_file(\"../input/widsdatathon2021/TrainingWiDS2021.csv\")\n",
    "artifact.add_file(\"../input/widsdatathon2021/UnlabeledWiDS2021.csv\")\n",
    "artifact.add_file(\"../input/wids-datathon-2021-preprocessed-data/target_train.parquet\")\n",
    "\n",
    "wandb.log_artifact(artifact)\n",
    "wandb.finish()"
   ]
  },
  {
   "cell_type": "markdown",
   "metadata": {
    "papermill": {
     "duration": 0.053533,
     "end_time": "2021-03-07T09:49:12.944397",
     "exception": false,
     "start_time": "2021-03-07T09:49:12.890864",
     "status": "completed"
    },
    "tags": []
   },
   "source": [
    "# 3. Label Encoding\n",
    "\n",
    "> There are 6 columns that are of type `object`. Hence, before doing any alteration to the dataset, we'll have to encode them (transforming words into encodings/ numbers).\n",
    "\n",
    "> Difference between LE and OHE:\n",
    "<img src=\"https://miro.medium.com/max/2736/0*T5jaa2othYfXZX9W.\" width=400>"
   ]
  },
  {
   "cell_type": "code",
   "execution_count": 8,
   "metadata": {
    "execution": {
     "iopub.execute_input": "2021-03-07T09:49:13.077054Z",
     "iopub.status.busy": "2021-03-07T09:49:13.076047Z",
     "iopub.status.idle": "2021-03-07T09:49:13.079262Z",
     "shell.execute_reply": "2021-03-07T09:49:13.078710Z"
    },
    "papermill": {
     "duration": 0.083006,
     "end_time": "2021-03-07T09:49:13.079368",
     "exception": false,
     "start_time": "2021-03-07T09:49:12.996362",
     "status": "completed"
    },
    "tags": []
   },
   "outputs": [],
   "source": [
    "def encoder_train_test(train, test, method=\"LabelEncoder\", prints=True):\n",
    "    '''Encode object columns in Train and Test, leaving NAs to be imputed later.\n",
    "    Uses Label Encoder from Sklearn or Dummy Encoding from Pandas.\n",
    "    Train and Test need to be Pandas dataframes.\n",
    "    Returns the train and test dataframes with encoded column + a list of \n",
    "    the columns what have been encoded.'''\n",
    "    # Convert to CPU dataframe\n",
    "    train = train.to_pandas()\n",
    "    test = test.to_pandas()\n",
    "    \n",
    "    # Select all columns with type == \"object\"\n",
    "    train_cols = [col for col in train.columns if train[col].dtype == 'object']\n",
    "    test_cols = [col for col in test.columns if test[col].dtype == 'object']\n",
    "    string_cols = list(set(train_cols+test_cols))\n",
    "    if prints:\n",
    "        print(\"Train: {} columns to encode.\".format(len(train_cols)), \"\\n\"\n",
    "              \"Test: {} columns to encode.\".format(len(test_cols)), \"\\n\")\n",
    "    \n",
    "        \n",
    "    # --- Label Encoder ---\n",
    "    if method == \"LabelEncoder\":\n",
    "        \n",
    "        for df, cols in zip([train, test], [train_cols, test_cols]):\n",
    "            for col in cols:\n",
    "                encoder = LabelEncoder()\n",
    "\n",
    "                ### select all values to encode but NAs (we'll impute these later)\n",
    "                fit_by = pd.Series([i for i in df[col].unique() \n",
    "                                    if type(i) == str])\n",
    "                encoder.fit(fit_by)\n",
    "                ### encode the column, leaving NAs untouched\n",
    "                df[col] = df[col].apply(lambda x: encoder.transform([x])[0] \n",
    "                                        if type(x) == str else x)\n",
    "    \n",
    "    \n",
    "    # --- Dummy Encoder ---          \n",
    "    if method == \"Dummy\":\n",
    "    \n",
    "        # Create Dummy Variables\n",
    "        encoded_train = pd.get_dummies(train[train_cols])\n",
    "        encoded_test = pd.get_dummies(test[test_cols])\n",
    "        \n",
    "        # Strip columns of leading/trailing spaces\n",
    "        encoded_train.columns = encoded_train.columns.str.strip()\n",
    "        encoded_test.columns = encoded_test.columns.str.strip()\n",
    "        # Erase train or test columns that might be found in the other df\n",
    "        ### this can and it happens: there are categories in train data \n",
    "        ### that aren't found in the test data\n",
    "        ### nevertheless, they need to be found in both (or not)\n",
    "        in_train_not_test = list(set(encoded_train.columns) - set(encoded_test.columns))\n",
    "        in_test_not_train = list(set(encoded_test.columns) - set(encoded_train.columns))       \n",
    "        \n",
    "        # Drop old columns and replace with encoded ones\n",
    "        train.drop(columns=train_cols, axis=1, inplace=True)\n",
    "        test.drop(columns=test_cols, axis=1, inplace=True)\n",
    "\n",
    "        train = pd.concat([train, encoded_train], axis=1)\n",
    "        test = pd.concat([test, encoded_test], axis=1)\n",
    "\n",
    "        if in_train_not_test:\n",
    "            train.drop(columns=in_train_not_test, axis=1, inplace=True)\n",
    "\n",
    "        if in_test_not_train:\n",
    "            test.drop(columns=in_test_not_train, axis=1, inplace=True)\n",
    "        \n",
    "        # Get all categ columns again (updated with latest changes)\n",
    "        if in_train_not_test:\n",
    "            new_train_cols = list(set(encoded_train.columns) - set(in_train_not_test))\n",
    "        else:\n",
    "            new_train_cols = list(encoded_train.columns)\n",
    "        if in_test_not_train:\n",
    "            new_test_cols = list(set(encoded_test.columns) - set(in_test_not_train))\n",
    "        else:\n",
    "            new_test_cols = list(encoded_test.columns)\n",
    "        \n",
    "        string_cols = list(set(new_train_cols + new_test_cols))\n",
    "    \n",
    "    \n",
    "    # Convert back to GPU dataframe\n",
    "    train = cudf.DataFrame.from_pandas(train)\n",
    "    test = cudf.DataFrame.from_pandas(test)\n",
    "            \n",
    "    print(\"Encoding finished.\")\n",
    "    # Categ columns are needed to be properly shifted to int32 later\n",
    "    return train, test, string_cols"
   ]
  },
  {
   "cell_type": "code",
   "execution_count": 9,
   "metadata": {
    "execution": {
     "iopub.execute_input": "2021-03-07T09:49:13.196547Z",
     "iopub.status.busy": "2021-03-07T09:49:13.195495Z",
     "iopub.status.idle": "2021-03-07T09:50:31.475956Z",
     "shell.execute_reply": "2021-03-07T09:50:31.476529Z"
    },
    "papermill": {
     "duration": 78.344104,
     "end_time": "2021-03-07T09:50:31.476674",
     "exception": false,
     "start_time": "2021-03-07T09:49:13.132570",
     "status": "completed"
    },
    "tags": []
   },
   "outputs": [
    {
     "name": "stdout",
     "output_type": "stream",
     "text": [
      "CPU times: user 3 µs, sys: 1 µs, total: 4 µs\n",
      "Wall time: 7.15 µs\n",
      "Train: 6 columns to encode. \n",
      "Test: 6 columns to encode. \n",
      "\n",
      "Encoding finished.\n"
     ]
    }
   ],
   "source": [
    "%time\n",
    "train_le, test_le, string_cols_le = encoder_train_test(train=train, \n",
    "                                                       test=test,\n",
    "                                                       method=\"LabelEncoder\")\n",
    "# OHE doesn't perform better\n",
    "# train_ohe, test_ohe, string_cols_ohe = encoder_train_test(train=train, \n",
    "#                                                           test=test,\n",
    "#                                                           method=\"Dummy\")"
   ]
  },
  {
   "cell_type": "markdown",
   "metadata": {
    "papermill": {
     "duration": 0.054022,
     "end_time": "2021-03-07T09:50:31.586805",
     "exception": false,
     "start_time": "2021-03-07T09:50:31.532783",
     "status": "completed"
    },
    "tags": []
   },
   "source": [
    "# 4. Important TRAIN vs TEST differences 🔎\n",
    "\n",
    "* `encounter_id` - unique on each row (it is used in submission, but NOT during training)\n",
    "* `hospital_id` - completely different between train and test (columns needs to be dropped)\n",
    "* `age` - impute NAs; distributions are fairly similar, but with more senior patients in TEST set\n",
    "* `bmi` & `weight` - fairly similar distributions\n",
    "* `height` & `age` - little fluctuations"
   ]
  },
  {
   "cell_type": "code",
   "execution_count": 10,
   "metadata": {
    "execution": {
     "iopub.execute_input": "2021-03-07T09:50:31.715121Z",
     "iopub.status.busy": "2021-03-07T09:50:31.710737Z",
     "iopub.status.idle": "2021-03-07T09:50:33.211099Z",
     "shell.execute_reply": "2021-03-07T09:50:33.212589Z"
    },
    "papermill": {
     "duration": 1.572354,
     "end_time": "2021-03-07T09:50:33.212773",
     "exception": false,
     "start_time": "2021-03-07T09:50:31.640419",
     "status": "completed"
    },
    "tags": []
   },
   "outputs": [],
   "source": [
    "# Initialize new experiment\n",
    "run = wandb.init(project=\"wids-datathon-kaggle\", name=\"train-test-diff\")"
   ]
  },
  {
   "cell_type": "code",
   "execution_count": 11,
   "metadata": {
    "execution": {
     "iopub.execute_input": "2021-03-07T09:50:33.352339Z",
     "iopub.status.busy": "2021-03-07T09:50:33.351365Z",
     "iopub.status.idle": "2021-03-07T09:50:34.364220Z",
     "shell.execute_reply": "2021-03-07T09:50:34.365439Z"
    },
    "papermill": {
     "duration": 1.093613,
     "end_time": "2021-03-07T09:50:34.365742",
     "exception": false,
     "start_time": "2021-03-07T09:50:33.272129",
     "status": "completed"
    },
    "tags": []
   },
   "outputs": [
    {
     "name": "stdout",
     "output_type": "stream",
     "text": [
      "Mean : train 61.99510262125606 | test 62.85362517099863 \n",
      "Median : train 64.0 | test 65.0 \n",
      "Min: : train 0.0 | test 18 \n",
      "Max: : train 89.0 | test 96\n"
     ]
    },
    {
     "data": {
      "image/png": "[encoded data removed]",
      "text/plain": [
       "<Figure size 1296x216 with 1 Axes>"
      ]
     },
     "metadata": {
      "needs_background": "light"
     },
     "output_type": "display_data"
    }
   ],
   "source": [
    "datas = [train[train[\"age\"].isna() == False], test[test[\"age\"].isna() == False]]\n",
    "distplot_features(data=datas, feature=\"age\", categorical=False)"
   ]
  },
  {
   "cell_type": "code",
   "execution_count": 12,
   "metadata": {
    "execution": {
     "iopub.execute_input": "2021-03-07T09:50:34.507728Z",
     "iopub.status.busy": "2021-03-07T09:50:34.506715Z",
     "iopub.status.idle": "2021-03-07T09:50:34.920873Z",
     "shell.execute_reply": "2021-03-07T09:50:34.921480Z"
    },
    "papermill": {
     "duration": 0.486082,
     "end_time": "2021-03-07T09:50:34.921643",
     "exception": false,
     "start_time": "2021-03-07T09:50:34.435561",
     "status": "completed"
    },
    "tags": []
   },
   "outputs": [
    {
     "name": "stdout",
     "output_type": "stream",
     "text": [
      "Mean : train 169.60721892567148 | test 169.27641397362325 \n",
      "Median : train 170.1 | test 170.0 \n",
      "Min: : train 137.2 | test 137.0 \n",
      "Max: : train 195.59 | test 195.6\n"
     ]
    },
    {
     "data": {
      "image/png": "[encoded data removed]",
      "text/plain": [
       "<Figure size 1296x216 with 1 Axes>"
      ]
     },
     "metadata": {
      "needs_background": "light"
     },
     "output_type": "display_data"
    }
   ],
   "source": [
    "datas = [train[train[\"height\"].isna() == False], test[test[\"height\"].isna() == False]]\n",
    "distplot_features(data=datas, feature=\"height\", categorical=False)"
   ]
  },
  {
   "cell_type": "markdown",
   "metadata": {
    "papermill": {
     "duration": 0.075379,
     "end_time": "2021-03-07T09:50:35.068795",
     "exception": false,
     "start_time": "2021-03-07T09:50:34.993416",
     "status": "completed"
    },
    "tags": []
   },
   "source": [
    "> We've logged in the plots, so now we can finish this run (or experiment)."
   ]
  },
  {
   "cell_type": "code",
   "execution_count": 13,
   "metadata": {
    "execution": {
     "iopub.execute_input": "2021-03-07T09:50:35.205701Z",
     "iopub.status.busy": "2021-03-07T09:50:35.204748Z",
     "iopub.status.idle": "2021-03-07T09:50:38.411453Z",
     "shell.execute_reply": "2021-03-07T09:50:38.410089Z"
    },
    "papermill": {
     "duration": 3.281334,
     "end_time": "2021-03-07T09:50:38.411587",
     "exception": false,
     "start_time": "2021-03-07T09:50:35.130253",
     "status": "completed"
    },
    "tags": []
   },
   "outputs": [
    {
     "data": {
      "application/vnd.jupyter.widget-view+json": {
       "model_id": "4c2f9ff19cc14d75944bfaebd3849108",
       "version_major": 2,
       "version_minor": 0
      },
      "text/plain": [
       "VBox(children=(Label(value=' 0.04MB of 0.04MB uploaded (0.00MB deduped)\\r'), FloatProgress(value=1.0, max=1.0)…"
      ]
     },
     "metadata": {},
     "output_type": "display_data"
    }
   ],
   "source": [
    "# Finish this experiment\n",
    "wandb.finish()"
   ]
  },
  {
   "cell_type": "markdown",
   "metadata": {
    "papermill": {
     "duration": 0.057936,
     "end_time": "2021-03-07T09:50:38.527715",
     "exception": false,
     "start_time": "2021-03-07T09:50:38.469779",
     "status": "completed"
    },
    "tags": []
   },
   "source": [
    "## Correlation ⚛\n",
    "\n",
    "> There are many variables that are highly correlated between themselves. Moreover, the number of features in the dataset is quite big itself (~100 feaures). A PCA might be of help in here and might even drive the ROC curve value up."
   ]
  },
  {
   "cell_type": "code",
   "execution_count": 14,
   "metadata": {
    "execution": {
     "iopub.execute_input": "2021-03-07T09:50:38.667001Z",
     "iopub.status.busy": "2021-03-07T09:50:38.666019Z",
     "iopub.status.idle": "2021-03-07T09:50:38.668882Z",
     "shell.execute_reply": "2021-03-07T09:50:38.669447Z"
    },
    "papermill": {
     "duration": 0.081729,
     "end_time": "2021-03-07T09:50:38.669584",
     "exception": false,
     "start_time": "2021-03-07T09:50:38.587855",
     "status": "completed"
    },
    "tags": []
   },
   "outputs": [],
   "source": [
    "def correlation_network(data, corr_interval=[-0.8, 0.8], data_type=\"Train\",\n",
    "                        node_color=icecream[1]):\n",
    "    '''Returns the correlation Matrix between the variables with highest correlation coefficient.'''\n",
    "    \n",
    "    # .corr() in cudf's version doesn't support NAs, so we'll use the Pandas version\n",
    "    data = data.to_pandas()\n",
    "    corr = data.corr()\n",
    "    corr = pd.melt(corr.reset_index(), id_vars='index')\n",
    "    corr.columns = ['x', 'y', 'value']\n",
    "\n",
    "    # Filter only high correlations\n",
    "    high_corr = corr[((corr['value'] <= corr_interval[0]) | (corr['value'] >= corr_interval[1]))]\n",
    "    high_corr = high_corr[(high_corr['value'] != 1)].reset_index(drop=True)\n",
    "    \n",
    "    #~~~~~~~~~~~~~~~~~\n",
    "    #    The Graph\n",
    "    #~~~~~~~~~~~~~~~~~\n",
    "    \n",
    "    sources = list(high_corr.x.unique())\n",
    "    targets = list(high_corr.y.unique())\n",
    "    \n",
    "\n",
    "    plt.figure(figsize=(16, 12))\n",
    "    # GRAPH OBJECT\n",
    "    ### easier shorter way to create the nodes & edges object\n",
    "    g = nx.from_pandas_edgelist(high_corr, source='x', target='y') \n",
    "\n",
    "    # Layout\n",
    "    layout = nx.spring_layout(g, iterations=50, k=0.6, seed=seed)\n",
    "    # A list of sizes, based on g.degree\n",
    "    target_size = [g.degree(t) * 80 for t in targets]\n",
    "\n",
    "    nx.draw_networkx_nodes(g, \n",
    "                           layout, \n",
    "                           nodelist=targets, \n",
    "                           node_size=target_size, \n",
    "                           node_color=node_color)\n",
    "    # Draw every connection\n",
    "    nx.draw_networkx_nodes(g, layout, nodelist=sources, node_color=node_color, node_size=800, alpha=0.5)\n",
    "\n",
    "    nx.draw_networkx_edges(g, layout, width=1, edge_color=icecream[1])\n",
    "\n",
    "    target_dict = dict(zip(targets, targets))\n",
    "    nx.draw_networkx_labels(g, layout, labels=target_dict)\n",
    "\n",
    "    plt.axis('off')\n",
    "    plt.title(f\"{data_type}: Highest Correlations Network\", fontsize=25)\n",
    "    plt.show();"
   ]
  },
  {
   "cell_type": "code",
   "execution_count": 15,
   "metadata": {
    "execution": {
     "iopub.execute_input": "2021-03-07T09:50:38.797755Z",
     "iopub.status.busy": "2021-03-07T09:50:38.796713Z",
     "iopub.status.idle": "2021-03-07T09:50:43.471258Z",
     "shell.execute_reply": "2021-03-07T09:50:43.471973Z"
    },
    "papermill": {
     "duration": 4.742434,
     "end_time": "2021-03-07T09:50:43.472147",
     "exception": false,
     "start_time": "2021-03-07T09:50:38.729713",
     "status": "completed"
    },
    "tags": []
   },
   "outputs": [
    {
     "data": {
      "image/png": "[encoded data removed]",
      "text/plain": [
       "<Figure size 1152x864 with 1 Axes>"
      ]
     },
     "metadata": {},
     "output_type": "display_data"
    }
   ],
   "source": [
    "correlation_network(data=train, corr_interval=[-0.8, 0.8], data_type=\"Train\", node_color=icecream[0])"
   ]
  },
  {
   "cell_type": "code",
   "execution_count": 16,
   "metadata": {
    "execution": {
     "iopub.execute_input": "2021-03-07T09:50:43.617680Z",
     "iopub.status.busy": "2021-03-07T09:50:43.616524Z",
     "iopub.status.idle": "2021-03-07T09:50:44.463396Z",
     "shell.execute_reply": "2021-03-07T09:50:44.464044Z"
    },
    "papermill": {
     "duration": 0.923459,
     "end_time": "2021-03-07T09:50:44.464203",
     "exception": false,
     "start_time": "2021-03-07T09:50:43.540744",
     "status": "completed"
    },
    "tags": []
   },
   "outputs": [
    {
     "data": {
      "image/png": "[encoded data removed]",
      "text/plain": [
       "<Figure size 1152x864 with 1 Axes>"
      ]
     },
     "metadata": {},
     "output_type": "display_data"
    }
   ],
   "source": [
    "correlation_network(data=test, corr_interval=[-0.8, 0.8], data_type=\"Test\", node_color=icecream[2])"
   ]
  },
  {
   "cell_type": "markdown",
   "metadata": {
    "papermill": {
     "duration": 0.071518,
     "end_time": "2021-03-07T09:50:44.609364",
     "exception": false,
     "start_time": "2021-03-07T09:50:44.537846",
     "status": "completed"
    },
    "tags": []
   },
   "source": [
    "# 5. Imputation 🗄\n",
    "\n",
    "> `fancyimpute` is a library for missing data imputation algorithms, which uses machine learning algorithms to impute missing values. There are [many algorithms](https://pypi.org/project/fancyimpute/) that can be tried out:\n",
    "* **KNN**: Nearest neighbor imputations which weights samples using the mean squared difference on features for which two rows both have observed data.\n",
    "* **IterativeImputer**: A strategy for imputing missing values by modeling each feature with missing values as a function of other features in a round-robin fashion.\n",
    "* **SoftImpute**: Matrix completion by iterative soft thresholding of SVD decompositions.\n",
    "* etc."
   ]
  },
  {
   "cell_type": "code",
   "execution_count": 17,
   "metadata": {
    "execution": {
     "iopub.execute_input": "2021-03-07T09:50:44.767530Z",
     "iopub.status.busy": "2021-03-07T09:50:44.766350Z",
     "iopub.status.idle": "2021-03-07T09:50:44.778751Z",
     "shell.execute_reply": "2021-03-07T09:50:44.779521Z"
    },
    "papermill": {
     "duration": 0.095605,
     "end_time": "2021-03-07T09:50:44.779654",
     "exception": false,
     "start_time": "2021-03-07T09:50:44.684049",
     "status": "completed"
    },
    "tags": []
   },
   "outputs": [],
   "source": [
    "def fancy_imputer_train_test(train, test, string_cols, impute_type=\"mice\"):\n",
    "    '''Imputes the train and test datasets and returns the result.\n",
    "    string_cols: columns encoded with the label encoder (to be converted as well as int)\n",
    "    impute_type: could be 'mice' or 'knn' '''\n",
    "    # Convert to CPU dataframe\n",
    "    train = train.to_pandas()\n",
    "    test = test.to_pandas()\n",
    "    \n",
    "    print(\"Imputation has started...\")\n",
    "    if impute_type == \"mice\":\n",
    "        mice_imputer = IterativeImputer()\n",
    "        train_imputed = mice_imputer.fit_transform(train)\n",
    "        test_imputed = mice_imputer.transform(test)\n",
    "        \n",
    "        print(\"Data Cleanup has started...\")\n",
    "        train_finished = adjust_imputed_data(imputed_data=train_imputed, column_names=train.columns,\n",
    "                                             string_cols=string_cols)\n",
    "        test_finished = adjust_imputed_data(imputed_data=test_imputed, column_names=test.columns,\n",
    "                                             string_cols=string_cols)\n",
    "        \n",
    "    \n",
    "    elif impute_type == \"soft\":\n",
    "        imputer = SoftImpute()\n",
    "        train_imputed = imputer.fit_transform(train)\n",
    "        test_imputed = imputer.fit_transform(test)\n",
    "        \n",
    "        print(\"Data Cleanup has started...\")\n",
    "        train_finished = adjust_imputed_data(imputed_data=train_imputed, column_names=train.columns,\n",
    "                                             string_cols=string_cols)\n",
    "        test_finished = adjust_imputed_data(imputed_data=test_imputed, column_names=test.columns,\n",
    "                                             string_cols=string_cols)\n",
    "        \n",
    "    elif impute_type == \"svd\":\n",
    "        imputer = IterativeSVD(verbose=False)\n",
    "        train_imputed = imputer.fit_transform(train)\n",
    "        test_imputed = imputer.fit_transform(test)\n",
    "        \n",
    "        print(\"Data Cleanup has started...\")\n",
    "        train_finished = adjust_imputed_data(imputed_data=train_imputed, column_names=train.columns,\n",
    "                                             string_cols=string_cols)\n",
    "        test_finished = adjust_imputed_data(imputed_data=test_imputed, column_names=test.columns,\n",
    "                                             string_cols=string_cols)\n",
    "     \n",
    "    # No GPU conversion needed, as they are already GPU dataframes from adjust_imputed_data() function\n",
    "    print(\"Imputation has finished.\")\n",
    "    return train_finished, test_finished\n",
    "\n",
    "\n",
    "\n",
    "def adjust_imputed_data(imputed_data, column_names, string_cols):\n",
    "    '''Adjusts the output of the imputed data.\n",
    "    The input is a CPU df and the output is a GPU df.\n",
    "    Also transforms all initial categorical columns to int64.'''\n",
    "    data = cudf.DataFrame(imputed_data)\n",
    "    data.columns = column_names\n",
    "\n",
    "#     # Transform to int all columns that were int/string in the beginning\n",
    "#     int64_cols = [col for col in data.columns if data[col].dtype == \"int64\"]\n",
    "#     int64_cols.extend(string_cols)\n",
    "#     for col in int64_cols:\n",
    "#         data[col] = data[col].applymap(to_int_cuda)\n",
    "        \n",
    "    return data"
   ]
  },
  {
   "cell_type": "code",
   "execution_count": 18,
   "metadata": {
    "execution": {
     "iopub.execute_input": "2021-03-07T09:50:44.935947Z",
     "iopub.status.busy": "2021-03-07T09:50:44.934771Z",
     "iopub.status.idle": "2021-03-07T09:50:52.298537Z",
     "shell.execute_reply": "2021-03-07T09:50:52.297842Z"
    },
    "papermill": {
     "duration": 7.444557,
     "end_time": "2021-03-07T09:50:52.298687",
     "exception": false,
     "start_time": "2021-03-07T09:50:44.854130",
     "status": "completed"
    },
    "tags": []
   },
   "outputs": [
    {
     "name": "stdout",
     "output_type": "stream",
     "text": [
      "CPU times: user 3 µs, sys: 0 ns, total: 3 µs\n",
      "Wall time: 6.91 µs\n",
      "Imputation has started...\n",
      "Data Cleanup has started...\n",
      "Imputation has finished.\n"
     ]
    }
   ],
   "source": [
    "# For the purpose of this notebook running faster, I'll use only\n",
    "# a fraction of the total data\n",
    "# to preprocess all, set n = len(train_le) OR n = len(test_le)\n",
    "\n",
    "train_le_sample = train_le.sample(n=100)\n",
    "test_le_sample = test_le.sample(n=100)\n",
    "\n",
    "%time\n",
    "train_le_mice, test_le_mice = fancy_imputer_train_test(train=train_le_sample, \n",
    "                                                       test=test_le_sample,\n",
    "                                                       string_cols=string_cols_le,\n",
    "                                                       impute_type=\"mice\")\n",
    "\n",
    "# You can try using OHE instead of LE and other imputation methods ;)"
   ]
  },
  {
   "cell_type": "markdown",
   "metadata": {
    "papermill": {
     "duration": 0.07214,
     "end_time": "2021-03-07T09:50:52.444309",
     "exception": false,
     "start_time": "2021-03-07T09:50:52.372169",
     "status": "completed"
    },
    "tags": []
   },
   "source": [
    "> You can see the saved artifacts [here](https://wandb.ai/andrada/wids-datathon-kaggle/artifacts)."
   ]
  },
  {
   "cell_type": "code",
   "execution_count": 19,
   "metadata": {
    "_kg_hide-output": true,
    "execution": {
     "iopub.execute_input": "2021-03-07T09:50:52.612882Z",
     "iopub.status.busy": "2021-03-07T09:50:52.611865Z",
     "iopub.status.idle": "2021-03-07T09:51:00.765332Z",
     "shell.execute_reply": "2021-03-07T09:51:00.764599Z"
    },
    "papermill": {
     "duration": 8.248593,
     "end_time": "2021-03-07T09:51:00.765470",
     "exception": false,
     "start_time": "2021-03-07T09:50:52.516877",
     "status": "completed"
    },
    "tags": []
   },
   "outputs": [
    {
     "data": {
      "application/vnd.jupyter.widget-view+json": {
       "model_id": "9cc2e8cdcdc54dfab2596c50f1f43cc0",
       "version_major": 2,
       "version_minor": 0
      },
      "text/plain": [
       "VBox(children=(Label(value=' 0.00MB of 24.87MB uploaded (0.00MB deduped)\\r'), FloatProgress(value=2.2048381280…"
      ]
     },
     "metadata": {},
     "output_type": "display_data"
    }
   ],
   "source": [
    "# Save to W&B as artifacts\n",
    "run = wandb.init(project='wids-datathon-kaggle', name='le+mice_process')\n",
    "artifact = wandb.Artifact(name='preprocessed', \n",
    "                          type='dataset')\n",
    "\n",
    "artifact.add_file(\"../input/wids-datathon-2021-preprocessed-data/train_le_mice.parquet\")\n",
    "artifact.add_file(\"../input/wids-datathon-2021-preprocessed-data/test_le_mice.parquet\")\n",
    "\n",
    "wandb.log_artifact(artifact)\n",
    "wandb.finish()"
   ]
  },
  {
   "cell_type": "markdown",
   "metadata": {},
   "source": [
    "# Scaling\n"
   ]
  },
  {
   "cell_type": "code",
   "execution_count": 20,
   "metadata": {
    "execution": {
     "iopub.execute_input": "2021-03-07T09:51:01.057791Z",
     "iopub.status.busy": "2021-03-07T09:51:01.056897Z",
     "iopub.status.idle": "2021-03-07T09:51:01.060982Z",
     "shell.execute_reply": "2021-03-07T09:51:01.060370Z"
    },
    "papermill": {
     "duration": 0.08257,
     "end_time": "2021-03-07T09:51:01.061099",
     "exception": false,
     "start_time": "2021-03-07T09:51:00.978529",
     "status": "completed"
    },
    "tags": []
   },
   "outputs": [],
   "source": [
    "def scale_data(train, test):\n",
    "    '''Scales the data using MinMaxScaler from the cuml library.\n",
    "    Returns the 2 scaled train & test dataframes.'''\n",
    "\n",
    "    scaler = MinMaxScaler()\n",
    "\n",
    "    new_train = scaler.fit_transform(train)\n",
    "    new_test = scaler.transform(test)\n",
    "\n",
    "    new_train.columns = train.columns\n",
    "    new_test.columns = test.columns\n",
    "    \n",
    "    print(\"Scaling has finished.\")\n",
    "    return new_train, new_test"
   ]
  },
  {
   "cell_type": "code",
   "execution_count": 21,
   "metadata": {
    "execution": {
     "iopub.execute_input": "2021-03-07T09:51:01.221074Z",
     "iopub.status.busy": "2021-03-07T09:51:01.220247Z",
     "iopub.status.idle": "2021-03-07T09:51:06.252770Z",
     "shell.execute_reply": "2021-03-07T09:51:06.252239Z"
    },
    "papermill": {
     "duration": 5.118289,
     "end_time": "2021-03-07T09:51:06.252876",
     "exception": false,
     "start_time": "2021-03-07T09:51:01.134587",
     "status": "completed"
    },
    "tags": []
   },
   "outputs": [
    {
     "name": "stdout",
     "output_type": "stream",
     "text": [
      "Scaling has finished.\n"
     ]
    }
   ],
   "source": [
    "train_le_mice_scaled, test_le_mice_scaled = scale_data(train=train_le_mice, \n",
    "                                                       test=test_le_mice)"
   ]
  },
  {
   "cell_type": "markdown",
   "metadata": {
    "papermill": {
     "duration": 0.072618,
     "end_time": "2021-03-07T09:51:06.398144",
     "exception": false,
     "start_time": "2021-03-07T09:51:06.325526",
     "status": "completed"
    },
    "tags": []
   },
   "source": [
    "# 6. Save data 📀\n",
    "\n",
    "> The last step in the preprocessing part is to save the newly processed data. We'll save the data as `.parquet`, as it reads 6 times faster than a `.csv` would.\n",
    "\n",
    "> You can see the saved artifacts [here](https://wandb.ai/andrada/wids-datathon-kaggle/artifacts)."
   ]
  },
  {
   "cell_type": "code",
   "execution_count": 22,
   "metadata": {
    "_kg_hide-output": true,
    "execution": {
     "iopub.execute_input": "2021-03-07T09:51:06.554784Z",
     "iopub.status.busy": "2021-03-07T09:51:06.553721Z",
     "iopub.status.idle": "2021-03-07T09:51:12.779812Z",
     "shell.execute_reply": "2021-03-07T09:51:12.779182Z"
    },
    "papermill": {
     "duration": 6.308047,
     "end_time": "2021-03-07T09:51:12.779942",
     "exception": false,
     "start_time": "2021-03-07T09:51:06.471895",
     "status": "completed"
    },
    "tags": []
   },
   "outputs": [
    {
     "data": {
      "application/vnd.jupyter.widget-view+json": {
       "model_id": "3be0165f4dfd4c898a16035b379f74a7",
       "version_major": 2,
       "version_minor": 0
      },
      "text/plain": [
       "VBox(children=(Label(value=' 0.00MB of 25.67MB uploaded (0.00MB deduped)\\r'), FloatProgress(value=2.1362186774…"
      ]
     },
     "metadata": {},
     "output_type": "display_data"
    }
   ],
   "source": [
    "# Add encounter_id and diabetes_mellitus back to the dataframes\n",
    "train_le_mice_scaled[\"encounter_id\"] = encounter_id_train\n",
    "test_le_mice_scaled[\"encounter_id\"] = encounter_id_test\n",
    "\n",
    "train_le_mice_scaled[\"diabetes_mellitus\"] = diabetes_mellitus_train\n",
    "\n",
    "# Save data to .parquet (6x faster than .csv)\n",
    "train_le_mice_scaled.to_parquet('train_le_mice_scaled.parquet')\n",
    "test_le_mice_scaled.to_parquet('test_le_mice_scaled.parquet')\n",
    "\n",
    "# Save to W&B as artifacts\n",
    "run = wandb.init(project='wids-datathon-kaggle', name='le+mice_scale_process')\n",
    "artifact = wandb.Artifact(name='preprocessed', \n",
    "                          type='dataset')\n",
    "\n",
    "artifact.add_file(\"../input/wids-datathon-2021-preprocessed-data/train_le_mice_scaled.parquet\")\n",
    "artifact.add_file(\"../input/wids-datathon-2021-preprocessed-data/test_le_mice_scaled.parquet\")\n",
    "\n",
    "wandb.log_artifact(artifact)\n",
    "wandb.finish()"
   ]
  },
  {
   "cell_type": "markdown",
   "metadata": {},
   "source": [
    "# Model Training"
   ]
  },
  {
   "cell_type": "code",
   "execution_count": 23,
   "metadata": {
    "execution": {
     "iopub.execute_input": "2021-03-07T09:51:13.081589Z",
     "iopub.status.busy": "2021-03-07T09:51:13.080671Z",
     "iopub.status.idle": "2021-03-07T09:51:14.157492Z",
     "shell.execute_reply": "2021-03-07T09:51:14.156153Z"
    },
    "papermill": {
     "duration": 1.156964,
     "end_time": "2021-03-07T09:51:14.157647",
     "exception": false,
     "start_time": "2021-03-07T09:51:13.000683",
     "status": "completed"
    },
    "tags": []
   },
   "outputs": [],
   "source": [
    "# GPU Libraries\n",
    "import cuml\n",
    "from cuml.metrics import roc_auc_score\n",
    "from cuml.preprocessing.model_selection import train_test_split\n",
    "import xgboost\n",
    "# Important\n",
    "from wandb.xgboost import wandb_callback\n",
    "\n",
    "import pickle"
   ]
  },
  {
   "cell_type": "markdown",
   "metadata": {
    "papermill": {
     "duration": 0.074974,
     "end_time": "2021-03-07T09:51:14.309411",
     "exception": false,
     "start_time": "2021-03-07T09:51:14.234437",
     "status": "completed"
    },
    "tags": []
   },
   "source": [
    "### Data Import ⇢"
   ]
  },
  {
   "cell_type": "code",
   "execution_count": 24,
   "metadata": {
    "execution": {
     "iopub.execute_input": "2021-03-07T09:51:14.464760Z",
     "iopub.status.busy": "2021-03-07T09:51:14.463552Z",
     "iopub.status.idle": "2021-03-07T09:51:14.565524Z",
     "shell.execute_reply": "2021-03-07T09:51:14.564528Z"
    },
    "papermill": {
     "duration": 0.180931,
     "end_time": "2021-03-07T09:51:14.565667",
     "exception": false,
     "start_time": "2021-03-07T09:51:14.384736",
     "status": "completed"
    },
    "tags": []
   },
   "outputs": [],
   "source": [
    "# Import the data\n",
    "train = cudf.read_parquet(\"../input/wids-datathon-2021-preprocessed-data/train_le_mice.parquet\")\n",
    "test = cudf.read_parquet(\"../input/wids-datathon-2021-preprocessed-data/test_le_mice.parquet\")\n",
    "target_column = cudf.read_parquet(\"../input/wids-datathon-2021-preprocessed-data/target_train.parquet\")"
   ]
  },
  {
   "cell_type": "markdown",
   "metadata": {
    "papermill": {
     "duration": 0.074605,
     "end_time": "2021-03-07T09:51:14.716311",
     "exception": false,
     "start_time": "2021-03-07T09:51:14.641706",
     "status": "completed"
    },
    "tags": []
   },
   "source": [
    "### Functions 🗂"
   ]
  },
  {
   "cell_type": "code",
   "execution_count": 25,
   "metadata": {
    "execution": {
     "iopub.execute_input": "2021-03-07T09:51:14.875595Z",
     "iopub.status.busy": "2021-03-07T09:51:14.873726Z",
     "iopub.status.idle": "2021-03-07T09:51:14.876294Z",
     "shell.execute_reply": "2021-03-07T09:51:14.876865Z"
    },
    "papermill": {
     "duration": 0.085899,
     "end_time": "2021-03-07T09:51:14.877021",
     "exception": false,
     "start_time": "2021-03-07T09:51:14.791122",
     "status": "completed"
    },
    "tags": []
   },
   "outputs": [],
   "source": [
    "def make_submission(predictions, file_name):\n",
    "    '''Creates a .csv submission file.'''\n",
    "\n",
    "    # Create submission\n",
    "    sample_submission = cudf.read_csv(\"../input/widsdatathon2021/UnlabeledWiDS2021.csv\")\n",
    "    IDs = sample_submission[\"encounter_id\"]\n",
    "\n",
    "    to_submit = {'encounter_id': IDs, 'diabetes_mellitus': predictions}\n",
    "    df_to_submit = cudf.DataFrame(to_submit).set_index(['encounter_id'])\n",
    "    \n",
    "    df_to_submit.to_csv(f\"{file_name}.csv\")\n",
    "    print(\"Submission ready.\")"
   ]
  },
  {
   "cell_type": "markdown",
   "metadata": {
    "papermill": {
     "duration": 0.071702,
     "end_time": "2021-03-07T09:51:15.022886",
     "exception": false,
     "start_time": "2021-03-07T09:51:14.951184",
     "status": "completed"
    },
    "tags": []
   },
   "source": [
    "# 2. XGBoost ⏳"
   ]
  },
  {
   "cell_type": "code",
   "execution_count": 26,
   "metadata": {
    "execution": {
     "iopub.execute_input": "2021-03-07T09:51:15.189203Z",
     "iopub.status.busy": "2021-03-07T09:51:15.187097Z",
     "iopub.status.idle": "2021-03-07T09:51:15.189930Z",
     "shell.execute_reply": "2021-03-07T09:51:15.190532Z"
    },
    "papermill": {
     "duration": 0.093624,
     "end_time": "2021-03-07T09:51:15.190670",
     "exception": false,
     "start_time": "2021-03-07T09:51:15.097046",
     "status": "completed"
    },
    "tags": []
   },
   "outputs": [],
   "source": [
    "def train_xgb_model(X_train, X_test, y_train, y_test, params, \n",
    "                    details=\"default\", prints=True, step=1):\n",
    "    \n",
    "    '''Trains an XGB and returns the trained model + ROC value.'''\n",
    "    run = wandb.init(project='wids-datathon-kaggle', name=f'xgboost_run_{step}',\n",
    "                     config=params)\n",
    "    wandb.log(params)\n",
    "    \n",
    "    # Create DMatrix - is optimized for both memory efficiency and training speed.\n",
    "    train_matrix = xgboost.DMatrix(data = X_train, label = y_train)\n",
    "    \n",
    "    # Create & Train the model\n",
    "    model = xgboost.train(params, dtrain = train_matrix,\n",
    "                          callbacks=[wandb_callback()],\n",
    "                         )\n",
    "\n",
    "    # Make prediction\n",
    "    predicts = model.predict(xgboost.DMatrix(X_test))\n",
    "    roc = roc_auc_score(y_test.astype('int32'), predicts)\n",
    "    wandb.log({'roc':roc})\n",
    "\n",
    "    if prints:\n",
    "        print(details + \" - ROC: {:.5}\".format(roc))\n",
    "    \n",
    "    wandb.finish()\n",
    "    return model, roc\n",
    "\n",
    "\n",
    "def train_xgb_entire_data(X, y, params):\n",
    "    '''Use this when you are ready to submit.\n",
    "    Hence, you can train your tuned model 1 more time, but on the entire available labeled data.\n",
    "    Returns the trained model.'''\n",
    "    run = wandb.init(project='wids-datathon-kaggle', name='xgboost_run_entire_data',\n",
    "                     config=params)\n",
    "    wandb.log(params)\n",
    "    \n",
    "    # Create DMatrix - is optimized for both memory efficiency and training speed.\n",
    "    train_matrix = xgboost.DMatrix(data = X, label = y)\n",
    "    \n",
    "    # Create & Train the model\n",
    "    model = xgboost.train(params, dtrain = train_matrix,\n",
    "                          callbacks=[wandb_callback()],\n",
    "                         )\n",
    "    \n",
    "    return model, run"
   ]
  },
  {
   "cell_type": "code",
   "execution_count": 27,
   "metadata": {
    "execution": {
     "iopub.execute_input": "2021-03-07T09:51:15.357236Z",
     "iopub.status.busy": "2021-03-07T09:51:15.346876Z",
     "iopub.status.idle": "2021-03-07T09:51:15.365945Z",
     "shell.execute_reply": "2021-03-07T09:51:15.366483Z"
    },
    "papermill": {
     "duration": 0.101566,
     "end_time": "2021-03-07T09:51:15.366636",
     "exception": false,
     "start_time": "2021-03-07T09:51:15.265070",
     "status": "completed"
    },
    "tags": []
   },
   "outputs": [],
   "source": [
    "# Establish X and y\n",
    "y = target_column\n",
    "X = train\n",
    "\n",
    "# Simple split\n",
    "X_train, X_test, y_train, y_test = train_test_split(X, y, test_size=0.3, \n",
    "                                                    shuffle=False, stratify=y)"
   ]
  },
  {
   "cell_type": "markdown",
   "metadata": {
    "papermill": {
     "duration": 0.074473,
     "end_time": "2021-03-07T09:51:15.515617",
     "exception": false,
     "start_time": "2021-03-07T09:51:15.441144",
     "status": "completed"
    },
    "tags": []
   },
   "source": [
    "### XGBoost Models"
   ]
  },
  {
   "cell_type": "code",
   "execution_count": 28,
   "metadata": {
    "execution": {
     "iopub.execute_input": "2021-03-07T09:51:15.690125Z",
     "iopub.status.busy": "2021-03-07T09:51:15.689011Z",
     "iopub.status.idle": "2021-03-07T09:51:29.539884Z",
     "shell.execute_reply": "2021-03-07T09:51:29.539120Z"
    },
    "papermill": {
     "duration": 13.948283,
     "end_time": "2021-03-07T09:51:29.540041",
     "exception": false,
     "start_time": "2021-03-07T09:51:15.591758",
     "status": "completed"
    },
    "tags": []
   },
   "outputs": [
    {
     "name": "stdout",
     "output_type": "stream",
     "text": [
      "Baseline Model - ROC: 0.81498\n"
     ]
    },
    {
     "data": {
      "application/vnd.jupyter.widget-view+json": {
       "model_id": "0d10a9ccf40d4def9ffe2b34d1273244",
       "version_major": 2,
       "version_minor": 0
      },
      "text/plain": [
       "VBox(children=(Label(value=' 0.00MB of 0.00MB uploaded (0.00MB deduped)\\r'), FloatProgress(value=1.0, max=1.0)…"
      ]
     },
     "metadata": {},
     "output_type": "display_data"
    }
   ],
   "source": [
    "params1 = {\n",
    "    'max_depth' : 4,\n",
    "    'max_leaves' : 2**4,\n",
    "    'tree_method' : 'gpu_hist',\n",
    "    'objective' : 'reg:logistic',\n",
    "    'grow_policy' : 'lossguide',\n",
    "    'colsample_bynode': 0.8,\n",
    "}\n",
    "\n",
    "model1, roc1 = train_xgb_model(X_train, X_test, y_train, y_test, \n",
    "                               params1, details=\"Baseline Model\", step=1)"
   ]
  },
  {
   "cell_type": "code",
   "execution_count": 29,
   "metadata": {
    "execution": {
     "iopub.execute_input": "2021-03-07T09:51:29.868489Z",
     "iopub.status.busy": "2021-03-07T09:51:29.864668Z",
     "iopub.status.idle": "2021-03-07T09:51:36.902182Z",
     "shell.execute_reply": "2021-03-07T09:51:36.903269Z"
    },
    "papermill": {
     "duration": 7.133185,
     "end_time": "2021-03-07T09:51:36.903511",
     "exception": false,
     "start_time": "2021-03-07T09:51:29.770326",
     "status": "completed"
    },
    "tags": []
   },
   "outputs": [
    {
     "name": "stdout",
     "output_type": "stream",
     "text": [
      "Final Model - ROC: 0.82522\n"
     ]
    },
    {
     "data": {
      "application/vnd.jupyter.widget-view+json": {
       "model_id": "1a900b5e691f4813acae21eab6c6e784",
       "version_major": 2,
       "version_minor": 0
      },
      "text/plain": [
       "VBox(children=(Label(value=' 0.00MB of 0.00MB uploaded (0.00MB deduped)\\r'), FloatProgress(value=1.0, max=1.0)…"
      ]
     },
     "metadata": {},
     "output_type": "display_data"
    }
   ],
   "source": [
    "# ~~~~~~~~~\n",
    "#   TUNED\n",
    "# ~~~~~~~~~\n",
    "\n",
    "params_final = {\n",
    "    'max_depth' : 6,\n",
    "    'max_leaves' : 14,\n",
    "    'tree_method' : 'gpu_hist',\n",
    "    'objective' : 'reg:logistic',\n",
    "    'grow_policy' : 'lossguide',\n",
    "    'eta' : 0.6,\n",
    "}\n",
    "\n",
    "_, _ = train_xgb_model(X_train, X_test, y_train, y_test, \n",
    "                               params_final, details=\"Final Model\", step=2)\n",
    "\n",
    "# Train on the entire dataset\n",
    "xgb_final_model, run = train_xgb_entire_data(X, y, params=params_final)"
   ]
  },
  {
   "cell_type": "code",
   "execution_count": 30,
   "metadata": {
    "execution": {
     "iopub.execute_input": "2021-03-07T09:51:37.238999Z",
     "iopub.status.busy": "2021-03-07T09:51:37.237115Z",
     "iopub.status.idle": "2021-03-07T09:51:37.244219Z",
     "shell.execute_reply": "2021-03-07T09:51:37.244954Z"
    },
    "papermill": {
     "duration": 0.105986,
     "end_time": "2021-03-07T09:51:37.245176",
     "exception": false,
     "start_time": "2021-03-07T09:51:37.139190",
     "status": "completed"
    },
    "tags": []
   },
   "outputs": [],
   "source": [
    "# Save final model\n",
    "pickle.dump(xgb_final_model, open(\"xgb_le_mice.pickle.dat\", \"wb\"))"
   ]
  },
  {
   "cell_type": "code",
   "execution_count": 31,
   "metadata": {
    "execution": {
     "iopub.execute_input": "2021-03-07T09:51:37.408956Z",
     "iopub.status.busy": "2021-03-07T09:51:37.408084Z",
     "iopub.status.idle": "2021-03-07T09:51:37.412553Z",
     "shell.execute_reply": "2021-03-07T09:51:37.411658Z"
    },
    "papermill": {
     "duration": 0.089051,
     "end_time": "2021-03-07T09:51:37.412713",
     "exception": false,
     "start_time": "2021-03-07T09:51:37.323662",
     "status": "completed"
    },
    "tags": []
   },
   "outputs": [],
   "source": [
    "# # Save Artifact\n",
    "# run = wandb.init(project='wids-datathon-kaggle', name='save_xgb_model')\n",
    "# artifact = wandb.Artifact(name='XGBoost-models', \n",
    "#                           type='model')\n",
    "# artifact.add_dir(\"./xgb_le_mice.pickle.dat\")\n",
    "# run.log_artifact(artifact)\n",
    "# wandb.finish()"
   ]
  },
  {
   "cell_type": "markdown",
   "metadata": {
    "papermill": {
     "duration": 0.079269,
     "end_time": "2021-03-07T09:51:37.571757",
     "exception": false,
     "start_time": "2021-03-07T09:51:37.492488",
     "status": "completed"
    },
    "tags": []
   },
   "source": [
    "### XGBoost Submission 📤"
   ]
  },
  {
   "cell_type": "code",
   "execution_count": 32,
   "metadata": {
    "execution": {
     "iopub.execute_input": "2021-03-07T09:51:37.748482Z",
     "iopub.status.busy": "2021-03-07T09:51:37.747548Z",
     "iopub.status.idle": "2021-03-07T09:51:37.815475Z",
     "shell.execute_reply": "2021-03-07T09:51:37.814456Z"
    },
    "papermill": {
     "duration": 0.165848,
     "end_time": "2021-03-07T09:51:37.815591",
     "exception": false,
     "start_time": "2021-03-07T09:51:37.649743",
     "status": "completed"
    },
    "tags": []
   },
   "outputs": [
    {
     "name": "stdout",
     "output_type": "stream",
     "text": [
      "Submission ready.\n"
     ]
    }
   ],
   "source": [
    "# Predict\n",
    "xgb_final_preds = xgb_final_model.predict(xgboost.DMatrix(test))\n",
    "\n",
    "make_submission(predictions=xgb_final_preds, file_name=\"xgb_le_mice\")"
   ]
  },
  {
   "cell_type": "markdown",
   "metadata": {
    "papermill": {
     "duration": 0.077404,
     "end_time": "2021-03-07T09:51:37.974338",
     "exception": false,
     "start_time": "2021-03-07T09:51:37.896934",
     "status": "completed"
    },
    "tags": []
   },
   "source": [
    "### Feature Importance 📊"
   ]
  },
  {
   "cell_type": "code",
   "execution_count": 33,
   "metadata": {
    "execution": {
     "iopub.execute_input": "2021-03-07T09:51:38.143533Z",
     "iopub.status.busy": "2021-03-07T09:51:38.142549Z",
     "iopub.status.idle": "2021-03-07T09:51:38.438068Z",
     "shell.execute_reply": "2021-03-07T09:51:38.437170Z"
    },
    "papermill": {
     "duration": 0.385809,
     "end_time": "2021-03-07T09:51:38.438205",
     "exception": false,
     "start_time": "2021-03-07T09:51:38.052396",
     "status": "completed"
    },
    "tags": []
   },
   "outputs": [
    {
     "data": {
      "image/png": "[encoded data removed]",
      "text/plain": [
       "<Figure size 1152x648 with 1 Axes>"
      ]
     },
     "metadata": {
      "needs_background": "light"
     },
     "output_type": "display_data"
    }
   ],
   "source": [
    "feature_imp = pd.DataFrame(xgb_final_model.get_fscore().items(), \n",
    "                           columns=['feature','importance']).\\\n",
    "                            sort_values('importance', ascending=False)\n",
    "feature_imp = feature_imp.reset_index(drop=True).head(10)\n",
    "\n",
    "plt.figure(figsize=(16, 9))\n",
    "ax = sns.barplot(data=feature_imp, x='importance', y='feature',\n",
    "                 palette=\"spring_r\")\n",
    "ax.tick_params(axis='both', which='both', labelsize=14)\n",
    "ax.tick_params(axis='both', which='both', labelsize=14)\n",
    "ax.set_xlabel('Importance',fontsize=15, weight=\"bold\")\n",
    "ax.set_ylabel('Feature',fontsize=15,weight=\"bold\")\n",
    "plt.title(\"XGBoost - Feature Importance\", size=20, weight=\"bold\")\n",
    "plt.show();"
   ]
  },
  {
   "cell_type": "markdown",
   "metadata": {
    "papermill": {
     "duration": 0.091812,
     "end_time": "2021-03-07T09:51:38.622011",
     "exception": false,
     "start_time": "2021-03-07T09:51:38.530199",
     "status": "completed"
    },
    "tags": []
   },
   "source": [
    "# 3. Light GBM ⏳"
   ]
  },
  {
   "cell_type": "code",
   "execution_count": 34,
   "metadata": {
    "execution": {
     "iopub.execute_input": "2021-03-07T09:51:38.814676Z",
     "iopub.status.busy": "2021-03-07T09:51:38.813443Z",
     "iopub.status.idle": "2021-03-07T09:51:38.946387Z",
     "shell.execute_reply": "2021-03-07T09:51:38.945670Z"
    },
    "papermill": {
     "duration": 0.233719,
     "end_time": "2021-03-07T09:51:38.946519",
     "exception": false,
     "start_time": "2021-03-07T09:51:38.712800",
     "status": "completed"
    },
    "tags": []
   },
   "outputs": [
    {
     "data": {
      "text/html": [
       "<style type='text/css'>\n",
       ".datatable table.frame { margin-bottom: 0; }\n",
       ".datatable table.frame thead { border-bottom: none; }\n",
       ".datatable table.frame tr.coltypes td {  color: #FFFFFF;  line-height: 6px;  padding: 0 0.5em;}\n",
       ".datatable .bool    { background: #DDDD99; }\n",
       ".datatable .object  { background: #565656; }\n",
       ".datatable .int     { background: #5D9E5D; }\n",
       ".datatable .float   { background: #4040CC; }\n",
       ".datatable .str     { background: #CC4040; }\n",
       ".datatable .row_index {  background: var(--jp-border-color3);  border-right: 1px solid var(--jp-border-color0);  color: var(--jp-ui-font-color3);  font-size: 9px;}\n",
       ".datatable .frame tr.coltypes .row_index {  background: var(--jp-border-color0);}\n",
       ".datatable th:nth-child(2) { padding-left: 12px; }\n",
       ".datatable .hellipsis {  color: var(--jp-cell-editor-border-color);}\n",
       ".datatable .vellipsis {  background: var(--jp-layout-color0);  color: var(--jp-cell-editor-border-color);}\n",
       ".datatable .na {  color: var(--jp-cell-editor-border-color);  font-size: 80%;}\n",
       ".datatable .footer { font-size: 9px; }\n",
       ".datatable .frame_dimensions {  background: var(--jp-border-color3);  border-top: 1px solid var(--jp-border-color0);  color: var(--jp-ui-font-color3);  display: inline-block;  opacity: 0.6;  padding: 1px 10px 1px 5px;}\n",
       "</style>\n"
      ],
      "text/plain": [
       "<IPython.core.display.HTML object>"
      ]
     },
     "metadata": {},
     "output_type": "display_data"
    }
   ],
   "source": [
    "from sklearn.model_selection import StratifiedKFold, train_test_split\n",
    "from sklearn import metrics\n",
    "import lightgbm as lgbm\n",
    "from wandb.lightgbm import wandb_callback"
   ]
  },
  {
   "cell_type": "code",
   "execution_count": 35,
   "metadata": {
    "execution": {
     "iopub.execute_input": "2021-03-07T09:51:39.130403Z",
     "iopub.status.busy": "2021-03-07T09:51:39.129368Z",
     "iopub.status.idle": "2021-03-07T09:51:39.399401Z",
     "shell.execute_reply": "2021-03-07T09:51:39.398726Z"
    },
    "papermill": {
     "duration": 0.364462,
     "end_time": "2021-03-07T09:51:39.399540",
     "exception": false,
     "start_time": "2021-03-07T09:51:39.035078",
     "status": "completed"
    },
    "tags": []
   },
   "outputs": [],
   "source": [
    "# Variables\n",
    "features = train.columns.tolist()\n",
    "target = \"diabetes_mellitus\"\n",
    "\n",
    "train[\"diabetes_mellitus\"] = target_column\n",
    "\n",
    "# Train & Test\n",
    "train_lgbm, test_lgbm = train_test_split(train, test_size=0.05, shuffle=False)\n",
    "\n",
    "train_lgbm = train_lgbm.to_pandas()\n",
    "test_lgbm = test_lgbm.to_pandas()"
   ]
  },
  {
   "cell_type": "markdown",
   "metadata": {
    "papermill": {
     "duration": 0.08376,
     "end_time": "2021-03-07T09:51:39.569320",
     "exception": false,
     "start_time": "2021-03-07T09:51:39.485560",
     "status": "completed"
    },
    "tags": []
   },
   "source": [
    "### Light GBM Training Function"
   ]
  },
  {
   "cell_type": "code",
   "execution_count": 36,
   "metadata": {
    "execution": {
     "iopub.execute_input": "2021-03-07T09:51:39.754305Z",
     "iopub.status.busy": "2021-03-07T09:51:39.753395Z",
     "iopub.status.idle": "2021-03-07T09:51:39.758307Z",
     "shell.execute_reply": "2021-03-07T09:51:39.759548Z"
    },
    "papermill": {
     "duration": 0.108525,
     "end_time": "2021-03-07T09:51:39.759736",
     "exception": false,
     "start_time": "2021-03-07T09:51:39.651211",
     "status": "completed"
    },
    "tags": []
   },
   "outputs": [],
   "source": [
    "def training_lgbm(train_lgbm, test_lgbm, features, target, param,\n",
    "                  n_splits=5, stop_round=100, num_rounds=1000, verbose=False, \n",
    "                  tuned=\"None\", val=None, return_model=False, step=1):\n",
    "    \n",
    "    '''Trains LGBM model.'''\n",
    "    run = wandb.init(project='wids-datathon-kaggle', name=f'lgbm_run_{step}',\n",
    "                     config=param)\n",
    "    wandb.log(param)\n",
    "\n",
    "    # ~~~~~~~\n",
    "    #  KFOLD\n",
    "    # ~~~~~~~\n",
    "    skf = StratifiedKFold(n_splits=n_splits, shuffle=True)\n",
    "\n",
    "    oof = np.zeros(len(train_lgbm))\n",
    "    predictions = np.zeros(len(test_lgbm))\n",
    "\n",
    "    # Convert Train to Train & Validation\n",
    "    skf_split = skf.split(X=train_lgbm[features], y=train_lgbm[target].values)\n",
    "    \n",
    "    # ~~~~~~~\n",
    "    #  TRAIN\n",
    "    # ~~~~~~~\n",
    "    counter = 1\n",
    "\n",
    "    for train_index, valid_index in skf_split:\n",
    "        print(\"==== Fold {} ====\".format(counter))\n",
    "\n",
    "        lgbm_train = lgbm.Dataset(data = train_lgbm.iloc[train_index, :][features].values,\n",
    "                                  label = train_lgbm.iloc[train_index, :][target].values,\n",
    "                                  feature_name = features,\n",
    "                                  free_raw_data = False)\n",
    "\n",
    "        lgbm_valid = lgbm.Dataset(data = train_lgbm.iloc[valid_index, :][features].values,\n",
    "                                  label = train_lgbm.iloc[valid_index, :][target].values,\n",
    "                                  feature_name = features,\n",
    "                                  free_raw_data = False)\n",
    "\n",
    "        lgbm_1 = lgbm.train(params = param, train_set = lgbm_train, valid_sets = [lgbm_valid],\n",
    "                            early_stopping_rounds = stop_round, num_boost_round=num_rounds, \n",
    "                            verbose_eval=verbose, callbacks=[wandb_callback()])\n",
    "\n",
    "\n",
    "        # X_valid to predict\n",
    "        oof[valid_index] = lgbm_1.predict(train_lgbm.iloc[valid_index][features].values, \n",
    "                                          num_iteration = lgbm_1.best_iteration)\n",
    "        predictions += lgbm_1.predict(test_lgbm[features], \n",
    "                                      num_iteration = lgbm_1.best_iteration) / n_splits\n",
    "\n",
    "        counter += 1\n",
    "        \n",
    "        \n",
    "    # ~~~~~~~~~~~\n",
    "    #   OOF EVAL\n",
    "    # ~~~~~~~~~~~\n",
    "    print(\"============================================\")\n",
    "    print(\"Splits: {} | Stop Round: {} | No. Rounds: {} | {}: {}\".format(n_splits, stop_round, \n",
    "                                                                            num_rounds, tuned, val))\n",
    "    print(\"CV ROC: {:<0.5f}\".format(metrics.roc_auc_score(test_lgbm[target], predictions)))\n",
    "    print(\"\\n\")\n",
    "    wandb.log({'oof_roc': metrics.roc_auc_score(test_lgbm[target], predictions)})\n",
    "    wandb.finish()\n",
    "    \n",
    "    if return_model:\n",
    "        return lgbm_1"
   ]
  },
  {
   "cell_type": "markdown",
   "metadata": {
    "papermill": {
     "duration": 0.082011,
     "end_time": "2021-03-07T09:51:39.923636",
     "exception": false,
     "start_time": "2021-03-07T09:51:39.841625",
     "status": "completed"
    },
    "tags": []
   },
   "source": [
    "## Model (After Tuning)\n",
    "\n",
    "> I've done my tunning on my personal Z8 Desktop and here are the results after that:"
   ]
  },
  {
   "cell_type": "code",
   "execution_count": 37,
   "metadata": {
    "execution": {
     "iopub.execute_input": "2021-03-07T09:51:40.099897Z",
     "iopub.status.busy": "2021-03-07T09:51:40.098910Z",
     "iopub.status.idle": "2021-03-07T09:53:03.561208Z",
     "shell.execute_reply": "2021-03-07T09:53:03.562621Z"
    },
    "papermill": {
     "duration": 83.558105,
     "end_time": "2021-03-07T09:53:03.562844",
     "exception": false,
     "start_time": "2021-03-07T09:51:40.004739",
     "status": "completed"
    },
    "tags": []
   },
   "outputs": [
    {
     "data": {
      "text/html": [
       "Finishing last run (ID:dyqj0hsc) before initializing another..."
      ],
      "text/plain": [
       "<IPython.core.display.HTML object>"
      ]
     },
     "metadata": {},
     "output_type": "display_data"
    },
    {
     "data": {
      "application/vnd.jupyter.widget-view+json": {
       "model_id": "32e5366af1464596a228e988cc3753cd",
       "version_major": 2,
       "version_minor": 0
      },
      "text/plain": [
       "VBox(children=(Label(value=' 0.00MB of 0.00MB uploaded (0.00MB deduped)\\r'), FloatProgress(value=1.0, max=1.0)…"
      ]
     },
     "metadata": {},
     "output_type": "display_data"
    },
    {
     "data": {
      "text/html": [
       "...Successfully finished last run (ID:dyqj0hsc). Initializing new run:<br/><br/>"
      ],
      "text/plain": [
       "<IPython.core.display.HTML object>"
      ]
     },
     "metadata": {},
     "output_type": "display_data"
    },
    {
     "name": "stdout",
     "output_type": "stream",
     "text": [
      "==== Fold 1 ====\n",
      "Training until validation scores don't improve for 100 rounds\n",
      "[200]\tvalid_0's auc: 0.863361\n",
      "[400]\tvalid_0's auc: 0.865105\n",
      "Early stopping, best iteration is:\n",
      "[394]\tvalid_0's auc: 0.865247\n",
      "==== Fold 2 ====\n",
      "Training until validation scores don't improve for 100 rounds\n",
      "[200]\tvalid_0's auc: 0.860391\n",
      "[400]\tvalid_0's auc: 0.862274\n",
      "Early stopping, best iteration is:\n",
      "[400]\tvalid_0's auc: 0.862274\n",
      "==== Fold 3 ====\n",
      "Training until validation scores don't improve for 100 rounds\n",
      "[200]\tvalid_0's auc: 0.86576\n",
      "[400]\tvalid_0's auc: 0.867228\n",
      "Early stopping, best iteration is:\n",
      "[410]\tvalid_0's auc: 0.867272\n",
      "==== Fold 4 ====\n",
      "Training until validation scores don't improve for 100 rounds\n",
      "[200]\tvalid_0's auc: 0.864363\n",
      "Early stopping, best iteration is:\n",
      "[291]\tvalid_0's auc: 0.865407\n",
      "==== Fold 5 ====\n",
      "Training until validation scores don't improve for 100 rounds\n",
      "[200]\tvalid_0's auc: 0.861778\n",
      "[400]\tvalid_0's auc: 0.862373\n",
      "Early stopping, best iteration is:\n",
      "[313]\tvalid_0's auc: 0.862858\n",
      "============================================\n",
      "Splits: 5 | Stop Round: 100 | No. Rounds: 1000 | None: None\n",
      "CV ROC: 0.86149\n",
      "\n",
      "\n"
     ]
    },
    {
     "data": {
      "application/vnd.jupyter.widget-view+json": {
       "model_id": "34ad6b29d71a41b5abd4baa45adc9553",
       "version_major": 2,
       "version_minor": 0
      },
      "text/plain": [
       "VBox(children=(Label(value=' 0.00MB of 0.00MB uploaded (0.00MB deduped)\\r'), FloatProgress(value=1.0, max=1.0)…"
      ]
     },
     "metadata": {},
     "output_type": "display_data"
    }
   ],
   "source": [
    "final_params = {'learning_rate': 0.1,\n",
    "               'objective': 'binary',\n",
    "               'metric': 'auc',\n",
    "               'boosting_type': 'gbdt',\n",
    "               'max_depth': 6,\n",
    "\n",
    "               'subsample': 0.2,\n",
    "               'colsample_bytree': 0.3,\n",
    "               'reg_alpha': 0.54,\n",
    "               'reg_lambda': 0.4,\n",
    "               'min_split_gain': 0.7,\n",
    "               'min_child_weight': 26,\n",
    "               'nthread':-1,\n",
    "\n",
    "               'save_binary': True,\n",
    "               'seed': 1337, 'feature_fraction_seed': 1337,\n",
    "               'bagging_seed': 1337, 'drop_seed': 1337, \n",
    "               'data_random_seed': 1337,\n",
    "               'verbose': -1, \n",
    "               'is_unbalance': True,\n",
    "}\n",
    "\n",
    "training_lgbm(train_lgbm, test_lgbm, features, target, param=final_params,\n",
    "              n_splits=5, stop_round=100, num_rounds=1000, verbose=200,\n",
    "              step=1)"
   ]
  },
  {
   "cell_type": "markdown",
   "metadata": {
    "papermill": {
     "duration": 0.130014,
     "end_time": "2021-03-07T09:53:03.844027",
     "exception": false,
     "start_time": "2021-03-07T09:53:03.714013",
     "status": "completed"
    },
    "tags": []
   },
   "source": [
    "### Light GBM Final Model & Submission 📤"
   ]
  },
  {
   "cell_type": "code",
   "execution_count": 38,
   "metadata": {
    "execution": {
     "iopub.execute_input": "2021-03-07T09:53:04.040074Z",
     "iopub.status.busy": "2021-03-07T09:53:04.039043Z",
     "iopub.status.idle": "2021-03-07T09:54:22.093424Z",
     "shell.execute_reply": "2021-03-07T09:54:22.092067Z"
    },
    "papermill": {
     "duration": 78.156719,
     "end_time": "2021-03-07T09:54:22.093567",
     "exception": false,
     "start_time": "2021-03-07T09:53:03.936848",
     "status": "completed"
    },
    "tags": []
   },
   "outputs": [
    {
     "name": "stdout",
     "output_type": "stream",
     "text": [
      "==== Fold 1 ====\n",
      "Training until validation scores don't improve for 100 rounds\n",
      "[400]\tvalid_0's auc: 0.865053\n",
      "Early stopping, best iteration is:\n",
      "[401]\tvalid_0's auc: 0.865117\n",
      "==== Fold 2 ====\n",
      "Training until validation scores don't improve for 100 rounds\n",
      "[400]\tvalid_0's auc: 0.862493\n",
      "Early stopping, best iteration is:\n",
      "[367]\tvalid_0's auc: 0.862695\n",
      "==== Fold 3 ====\n",
      "Training until validation scores don't improve for 100 rounds\n",
      "[400]\tvalid_0's auc: 0.863192\n",
      "Early stopping, best iteration is:\n",
      "[314]\tvalid_0's auc: 0.863304\n",
      "==== Fold 4 ====\n",
      "Training until validation scores don't improve for 100 rounds\n",
      "[400]\tvalid_0's auc: 0.868322\n",
      "Early stopping, best iteration is:\n",
      "[324]\tvalid_0's auc: 0.868495\n",
      "==== Fold 5 ====\n",
      "Training until validation scores don't improve for 100 rounds\n",
      "[400]\tvalid_0's auc: 0.860229\n",
      "Early stopping, best iteration is:\n",
      "[312]\tvalid_0's auc: 0.860477\n",
      "============================================\n",
      "Splits: 5 | Stop Round: 100 | No. Rounds: 1000 | None: None\n",
      "CV ROC: 0.86037\n",
      "\n",
      "\n"
     ]
    },
    {
     "data": {
      "application/vnd.jupyter.widget-view+json": {
       "model_id": "39aaa24c65e0454b8ed26322128dd555",
       "version_major": 2,
       "version_minor": 0
      },
      "text/plain": [
       "VBox(children=(Label(value=' 0.00MB of 0.00MB uploaded (0.00MB deduped)\\r'), FloatProgress(value=1.0, max=1.0)…"
      ]
     },
     "metadata": {},
     "output_type": "display_data"
    }
   ],
   "source": [
    "# Train on more data\n",
    "train_lgbm, test_lgbm = train_test_split(train, test_size=0.05, shuffle=False)\n",
    "\n",
    "train_lgbm = train_lgbm.to_pandas()\n",
    "test_lgbm = test_lgbm.to_pandas()\n",
    "\n",
    "final_lgbm = training_lgbm(train_lgbm, test_lgbm, features, target, \n",
    "                           param=final_params, n_splits=5, stop_round=100, \n",
    "                           num_rounds=1000, verbose=400, return_model=True, step=2)"
   ]
  },
  {
   "cell_type": "code",
   "execution_count": 39,
   "metadata": {
    "execution": {
     "iopub.execute_input": "2021-03-07T09:54:22.538950Z",
     "iopub.status.busy": "2021-03-07T09:54:22.535872Z",
     "iopub.status.idle": "2021-03-07T09:54:22.891712Z",
     "shell.execute_reply": "2021-03-07T09:54:22.892810Z"
    },
    "papermill": {
     "duration": 0.477337,
     "end_time": "2021-03-07T09:54:22.893015",
     "exception": false,
     "start_time": "2021-03-07T09:54:22.415678",
     "status": "completed"
    },
    "tags": []
   },
   "outputs": [
    {
     "name": "stdout",
     "output_type": "stream",
     "text": [
      "Submission ready.\n"
     ]
    }
   ],
   "source": [
    "pickle.dump(final_lgbm, open(\"lgbm_le_mice.pickle.dat\", \"wb\"))\n",
    "\n",
    "# Predict test\n",
    "lgbm_final_preds = final_lgbm.predict(test.to_pandas(), num_iteration = final_lgbm.best_iteration)\n",
    "\n",
    "make_submission(lgbm_final_preds, file_name=\"lgbm_le_mice\")"
   ]
  },
  {
   "cell_type": "markdown",
   "metadata": {
    "papermill": {
     "duration": 0.106261,
     "end_time": "2021-03-07T09:54:23.129039",
     "exception": false,
     "start_time": "2021-03-07T09:54:23.022778",
     "status": "completed"
    },
    "tags": []
   },
   "source": [
    "# 4. SVR ⏳"
   ]
  },
  {
   "cell_type": "code",
   "execution_count": 40,
   "metadata": {
    "execution": {
     "iopub.execute_input": "2021-03-07T09:54:23.357619Z",
     "iopub.status.busy": "2021-03-07T09:54:23.355319Z",
     "iopub.status.idle": "2021-03-07T09:54:23.358363Z",
     "shell.execute_reply": "2021-03-07T09:54:23.359049Z"
    },
    "papermill": {
     "duration": 0.12319,
     "end_time": "2021-03-07T09:54:23.359199",
     "exception": false,
     "start_time": "2021-03-07T09:54:23.236009",
     "status": "completed"
    },
    "tags": []
   },
   "outputs": [],
   "source": [
    "# GPU Libraries\n",
    "import cuml\n",
    "from cuml.metrics import roc_auc_score\n",
    "from cuml.preprocessing.model_selection import train_test_split\n",
    "\n",
    "import pickle\n",
    "\n",
    "from cuml.linear_model import LogisticRegression\n",
    "from cuml.svm import SVC, SVR\n",
    "from cuml.neighbors import KNeighborsClassifier, NearestNeighbors\n",
    "from cuml.linear_model import MBSGDClassifier as cumlMBSGDClassifier\n",
    "from cuml.naive_bayes import MultinomialNB\n",
    "\n",
    "\n",
    "# --- Functions ---\n",
    "def train_model(model, X_train, y_train, X_test, y_test, name=\"default\"):\n",
    "    model.fit(X_train, y_train)\n",
    "    predicts = model.predict(X_test)\n",
    "    \n",
    "    roc = roc_auc_score(y_test, predicts)\n",
    "    print(\"Model: {} | ROC: {}\".format(name, roc))\n",
    "    \n",
    "    \n",
    "def train_entire_data(model, X, y):\n",
    "    model.fit(X, y)\n",
    "    return model"
   ]
  },
  {
   "cell_type": "code",
   "execution_count": 41,
   "metadata": {
    "execution": {
     "iopub.execute_input": "2021-03-07T09:54:23.586518Z",
     "iopub.status.busy": "2021-03-07T09:54:23.585461Z",
     "iopub.status.idle": "2021-03-07T09:54:23.624395Z",
     "shell.execute_reply": "2021-03-07T09:54:23.623773Z"
    },
    "papermill": {
     "duration": 0.158606,
     "end_time": "2021-03-07T09:54:23.624507",
     "exception": false,
     "start_time": "2021-03-07T09:54:23.465901",
     "status": "completed"
    },
    "tags": []
   },
   "outputs": [],
   "source": [
    "# Establish X and y\n",
    "y = target_column\n",
    "X = train.drop(labels=[\"diabetes_mellitus\"], axis=1)\n",
    "\n",
    "# Simple split\n",
    "X_train, X_test, y_train, y_test = train_test_split(X, y, test_size=0.3, \n",
    "                                                    shuffle=False, stratify=y)"
   ]
  },
  {
   "cell_type": "code",
   "execution_count": 42,
   "metadata": {
    "execution": {
     "iopub.execute_input": "2021-03-07T09:54:23.851694Z",
     "iopub.status.busy": "2021-03-07T09:54:23.850545Z",
     "iopub.status.idle": "2021-03-07T09:54:34.309266Z",
     "shell.execute_reply": "2021-03-07T09:54:34.309796Z"
    },
    "papermill": {
     "duration": 10.575468,
     "end_time": "2021-03-07T09:54:34.309951",
     "exception": false,
     "start_time": "2021-03-07T09:54:23.734483",
     "status": "completed"
    },
    "tags": []
   },
   "outputs": [
    {
     "name": "stdout",
     "output_type": "stream",
     "text": [
      "Model: SVR | ROC: 0.8128083944320679\n"
     ]
    }
   ],
   "source": [
    "# Creating and fitting the model\n",
    "svr_tuned = SVR(kernel='rbf', gamma='scale', C=1, epsilon=0.3)\n",
    "train_model(model=svr_tuned, X_train=X_train, \n",
    "            y_train=y_train, X_test=X_test, \n",
    "            y_test=y_test, name=\"SVR\")"
   ]
  },
  {
   "cell_type": "code",
   "execution_count": 43,
   "metadata": {
    "execution": {
     "iopub.execute_input": "2021-03-07T09:54:34.524847Z",
     "iopub.status.busy": "2021-03-07T09:54:34.523803Z",
     "iopub.status.idle": "2021-03-07T09:54:45.426026Z",
     "shell.execute_reply": "2021-03-07T09:54:45.424707Z"
    },
    "papermill": {
     "duration": 11.012793,
     "end_time": "2021-03-07T09:54:45.426167",
     "exception": false,
     "start_time": "2021-03-07T09:54:34.413374",
     "status": "completed"
    },
    "tags": []
   },
   "outputs": [],
   "source": [
    "# Train on the entire dataset\n",
    "svr_final = SVR(kernel='rbf', gamma='scale', C=1, epsilon=0.3)\n",
    "svr_final = train_entire_data(model=svr_final, X=X, y=y)\n",
    "\n",
    "# Save final model\n",
    "pickle.dump(svr_final, open(\"svr_le_mice.pickle.dat\", \"wb\"))"
   ]
  },
  {
   "cell_type": "markdown",
   "metadata": {
    "papermill": {
     "duration": 0.104715,
     "end_time": "2021-03-07T09:54:45.634618",
     "exception": false,
     "start_time": "2021-03-07T09:54:45.529903",
     "status": "completed"
    },
    "tags": []
   },
   "source": [
    "### Submission 📤"
   ]
  },
  {
   "cell_type": "code",
   "execution_count": 44,
   "metadata": {
    "execution": {
     "iopub.execute_input": "2021-03-07T09:54:45.846600Z",
     "iopub.status.busy": "2021-03-07T09:54:45.845657Z",
     "iopub.status.idle": "2021-03-07T09:54:46.011131Z",
     "shell.execute_reply": "2021-03-07T09:54:46.010037Z"
    },
    "papermill": {
     "duration": 0.274252,
     "end_time": "2021-03-07T09:54:46.011252",
     "exception": false,
     "start_time": "2021-03-07T09:54:45.737000",
     "status": "completed"
    },
    "tags": []
   },
   "outputs": [
    {
     "name": "stdout",
     "output_type": "stream",
     "text": [
      "Submission ready.\n"
     ]
    }
   ],
   "source": [
    "svr_predictions = svr_final.predict(test)\n",
    "make_submission(predictions=svr_predictions, file_name=\"svr_le_mice\")"
   ]
  },
  {
   "cell_type": "markdown",
   "metadata": {
    "papermill": {
     "duration": 0.103737,
     "end_time": "2021-03-07T09:54:46.219216",
     "exception": false,
     "start_time": "2021-03-07T09:54:46.115479",
     "status": "completed"
    },
    "tags": []
   },
   "source": [
    "# 4. Blend the models 🔬"
   ]
  },
  {
   "cell_type": "code",
   "execution_count": 45,
   "metadata": {
    "execution": {
     "iopub.execute_input": "2021-03-07T09:54:46.435814Z",
     "iopub.status.busy": "2021-03-07T09:54:46.434650Z",
     "iopub.status.idle": "2021-03-07T09:54:46.484199Z",
     "shell.execute_reply": "2021-03-07T09:54:46.484776Z"
    },
    "papermill": {
     "duration": 0.160817,
     "end_time": "2021-03-07T09:54:46.484919",
     "exception": false,
     "start_time": "2021-03-07T09:54:46.324102",
     "status": "completed"
    },
    "tags": []
   },
   "outputs": [
    {
     "name": "stdout",
     "output_type": "stream",
     "text": [
      "Submission ready.\n"
     ]
    }
   ],
   "source": [
    "blended_preds = 0.1*xgb_final_preds + 0.9*lgbm_final_preds\n",
    "make_submission(blended_preds, file_name=\"blend_xgb_lgbm\")"
   ]
  },
  {
   "cell_type": "code",
   "execution_count": 46,
   "metadata": {
    "execution": {
     "iopub.execute_input": "2021-03-07T09:54:46.914720Z",
     "iopub.status.busy": "2021-03-07T09:54:46.914028Z",
     "iopub.status.idle": "2021-03-07T09:54:47.144543Z",
     "shell.execute_reply": "2021-03-07T09:54:47.143318Z"
    },
    "papermill": {
     "duration": 0.347517,
     "end_time": "2021-03-07T09:54:47.144684",
     "exception": false,
     "start_time": "2021-03-07T09:54:46.797167",
     "status": "completed"
    },
    "tags": []
   },
   "outputs": [],
   "source": [
    "best_blend = pd.read_csv(\"../input/wids-datathon-2021-preprocessed-data/blend05.csv\")\n",
    "best_blend.to_csv(\"best_blend.csv\", index=False)"
   ]
  }
 ],
 "metadata": {
  "kernelspec": {
   "display_name": "Python 3",
   "language": "python",
   "name": "python3"
  },
  "language_info": {
   "codemirror_mode": {
    "name": "ipython",
    "version": 3
   },
   "file_extension": ".py",
   "mimetype": "text/x-python",
   "name": "python",
   "nbconvert_exporter": "python",
   "pygments_lexer": "ipython3",
   "version": "3.7.6"
  },
  "papermill": {
   "duration": 377.249579,
   "end_time": "2021-03-07T09:54:48.514449",
   "environment_variables": {},
   "exception": null,
   "input_path": "__notebook__.ipynb",
   "output_path": "__notebook__.ipynb",
   "parameters": {},
   "start_time": "2021-03-07T09:48:31.264870",
   "version": "2.1.0"
  },
  "widgets": {
   "application/vnd.jupyter.widget-state+json": {
    "state": {
     "011e18507a8942eeaea20e018bb26376": {
      "model_module": "@jupyter-widgets/controls",
      "model_module_version": "1.5.0",
      "model_name": "ProgressStyleModel",
      "state": {
       "_model_module": "@jupyter-widgets/controls",
       "_model_module_version": "1.5.0",
       "_model_name": "ProgressStyleModel",
       "_view_count": null,
       "_view_module": "@jupyter-widgets/base",
       "_view_module_version": "1.2.0",
       "_view_name": "StyleView",
       "bar_color": null,
       "description_width": ""
      }
     },
     "038586dc24e64c0c8a8181ab126694dc": {
      "model_module": "@jupyter-widgets/base",
      "model_module_version": "1.2.0",
      "model_name": "LayoutModel",
      "state": {
       "_model_module": "@jupyter-widgets/base",
       "_model_module_version": "1.2.0",
       "_model_name": "LayoutModel",
       "_view_count": null,
       "_view_module": "@jupyter-widgets/base",
       "_view_module_version": "1.2.0",
       "_view_name": "LayoutView",
       "align_content": null,
       "align_items": null,
       "align_self": null,
       "border": null,
       "bottom": null,
       "display": null,
       "flex": null,
       "flex_flow": null,
       "grid_area": null,
       "grid_auto_columns": null,
       "grid_auto_flow": null,
       "grid_auto_rows": null,
       "grid_column": null,
       "grid_gap": null,
       "grid_row": null,
       "grid_template_areas": null,
       "grid_template_columns": null,
       "grid_template_rows": null,
       "height": null,
       "justify_content": null,
       "justify_items": null,
       "left": null,
       "margin": null,
       "max_height": null,
       "max_width": null,
       "min_height": null,
       "min_width": null,
       "object_fit": null,
       "object_position": null,
       "order": null,
       "overflow": null,
       "overflow_x": null,
       "overflow_y": null,
       "padding": null,
       "right": null,
       "top": null,
       "visibility": null,
       "width": null
      }
     },
     "0444930cca4e40e891eb16743c79e175": {
      "model_module": "@jupyter-widgets/base",
      "model_module_version": "1.2.0",
      "model_name": "LayoutModel",
      "state": {
       "_model_module": "@jupyter-widgets/base",
       "_model_module_version": "1.2.0",
       "_model_name": "LayoutModel",
       "_view_count": null,
       "_view_module": "@jupyter-widgets/base",
       "_view_module_version": "1.2.0",
       "_view_name": "LayoutView",
       "align_content": null,
       "align_items": null,
       "align_self": null,
       "border": null,
       "bottom": null,
       "display": null,
       "flex": null,
       "flex_flow": null,
       "grid_area": null,
       "grid_auto_columns": null,
       "grid_auto_flow": null,
       "grid_auto_rows": null,
       "grid_column": null,
       "grid_gap": null,
       "grid_row": null,
       "grid_template_areas": null,
       "grid_template_columns": null,
       "grid_template_rows": null,
       "height": null,
       "justify_content": null,
       "justify_items": null,
       "left": null,
       "margin": null,
       "max_height": null,
       "max_width": null,
       "min_height": null,
       "min_width": null,
       "object_fit": null,
       "object_position": null,
       "order": null,
       "overflow": null,
       "overflow_x": null,
       "overflow_y": null,
       "padding": null,
       "right": null,
       "top": null,
       "visibility": null,
       "width": null
      }
     },
     "0465fac9c81340a99279f55d4e2f2917": {
      "model_module": "@jupyter-widgets/controls",
      "model_module_version": "1.5.0",
      "model_name": "FloatProgressModel",
      "state": {
       "_dom_classes": [],
       "_model_module": "@jupyter-widgets/controls",
       "_model_module_version": "1.5.0",
       "_model_name": "FloatProgressModel",
       "_view_count": null,
       "_view_module": "@jupyter-widgets/controls",
       "_view_module_version": "1.5.0",
       "_view_name": "ProgressView",
       "bar_style": "",
       "description": "",
       "description_tooltip": null,
       "layout": "IPY_MODEL_3a6c643c402a479f84220212861d037b",
       "max": 1,
       "min": 0,
       "orientation": "horizontal",
       "style": "IPY_MODEL_e84b9527bfb245e1994687e1fe3f4a6e",
       "value": 1
      }
     },
     "04b0a4ee95944e81be3517b928b6c213": {
      "model_module": "@jupyter-widgets/controls",
      "model_module_version": "1.5.0",
      "model_name": "DescriptionStyleModel",
      "state": {
       "_model_module": "@jupyter-widgets/controls",
       "_model_module_version": "1.5.0",
       "_model_name": "DescriptionStyleModel",
       "_view_count": null,
       "_view_module": "@jupyter-widgets/base",
       "_view_module_version": "1.2.0",
       "_view_name": "StyleView",
       "description_width": ""
      }
     },
     "0abdb2b035834210a14b6de82985ae64": {
      "model_module": "@jupyter-widgets/controls",
      "model_module_version": "1.5.0",
      "model_name": "LabelModel",
      "state": {
       "_dom_classes": [],
       "_model_module": "@jupyter-widgets/controls",
       "_model_module_version": "1.5.0",
       "_model_name": "LabelModel",
       "_view_count": null,
       "_view_module": "@jupyter-widgets/controls",
       "_view_module_version": "1.5.0",
       "_view_name": "LabelView",
       "description": "",
       "description_tooltip": null,
       "layout": "IPY_MODEL_b35692d27e1e459f9d2c99fda499ec06",
       "placeholder": "​",
       "style": "IPY_MODEL_30180232995940af97df82c46ffa5dd2",
       "value": " 0.02MB of 0.02MB uploaded (0.00MB deduped)\r"
      }
     },
     "0d10a9ccf40d4def9ffe2b34d1273244": {
      "model_module": "@jupyter-widgets/controls",
      "model_module_version": "1.5.0",
      "model_name": "VBoxModel",
      "state": {
       "_dom_classes": [],
       "_model_module": "@jupyter-widgets/controls",
       "_model_module_version": "1.5.0",
       "_model_name": "VBoxModel",
       "_view_count": null,
       "_view_module": "@jupyter-widgets/controls",
       "_view_module_version": "1.5.0",
       "_view_name": "VBoxView",
       "box_style": "",
       "children": [
        "IPY_MODEL_8e641e1a3acc463dbde7deab2c490978",
        "IPY_MODEL_1b51f5805f464131877e0ec0d4345807"
       ],
       "layout": "IPY_MODEL_8884562ae6d64dfbbf5a1e05506d015e"
      }
     },
     "1351685b4bbf4e47a46c01dbc5f2e777": {
      "model_module": "@jupyter-widgets/base",
      "model_module_version": "1.2.0",
      "model_name": "LayoutModel",
      "state": {
       "_model_module": "@jupyter-widgets/base",
       "_model_module_version": "1.2.0",
       "_model_name": "LayoutModel",
       "_view_count": null,
       "_view_module": "@jupyter-widgets/base",
       "_view_module_version": "1.2.0",
       "_view_name": "LayoutView",
       "align_content": null,
       "align_items": null,
       "align_self": null,
       "border": null,
       "bottom": null,
       "display": null,
       "flex": null,
       "flex_flow": null,
       "grid_area": null,
       "grid_auto_columns": null,
       "grid_auto_flow": null,
       "grid_auto_rows": null,
       "grid_column": null,
       "grid_gap": null,
       "grid_row": null,
       "grid_template_areas": null,
       "grid_template_columns": null,
       "grid_template_rows": null,
       "height": null,
       "justify_content": null,
       "justify_items": null,
       "left": null,
       "margin": null,
       "max_height": null,
       "max_width": null,
       "min_height": null,
       "min_width": null,
       "object_fit": null,
       "object_position": null,
       "order": null,
       "overflow": null,
       "overflow_x": null,
       "overflow_y": null,
       "padding": null,
       "right": null,
       "top": null,
       "visibility": null,
       "width": null
      }
     },
     "15b69471a7a24836a1d44c29ba252f92": {
      "model_module": "@jupyter-widgets/base",
      "model_module_version": "1.2.0",
      "model_name": "LayoutModel",
      "state": {
       "_model_module": "@jupyter-widgets/base",
       "_model_module_version": "1.2.0",
       "_model_name": "LayoutModel",
       "_view_count": null,
       "_view_module": "@jupyter-widgets/base",
       "_view_module_version": "1.2.0",
       "_view_name": "LayoutView",
       "align_content": null,
       "align_items": null,
       "align_self": null,
       "border": null,
       "bottom": null,
       "display": null,
       "flex": null,
       "flex_flow": null,
       "grid_area": null,
       "grid_auto_columns": null,
       "grid_auto_flow": null,
       "grid_auto_rows": null,
       "grid_column": null,
       "grid_gap": null,
       "grid_row": null,
       "grid_template_areas": null,
       "grid_template_columns": null,
       "grid_template_rows": null,
       "height": null,
       "justify_content": null,
       "justify_items": null,
       "left": null,
       "margin": null,
       "max_height": null,
       "max_width": null,
       "min_height": null,
       "min_width": null,
       "object_fit": null,
       "object_position": null,
       "order": null,
       "overflow": null,
       "overflow_x": null,
       "overflow_y": null,
       "padding": null,
       "right": null,
       "top": null,
       "visibility": null,
       "width": null
      }
     },
     "1a900b5e691f4813acae21eab6c6e784": {
      "model_module": "@jupyter-widgets/controls",
      "model_module_version": "1.5.0",
      "model_name": "VBoxModel",
      "state": {
       "_dom_classes": [],
       "_model_module": "@jupyter-widgets/controls",
       "_model_module_version": "1.5.0",
       "_model_name": "VBoxModel",
       "_view_count": null,
       "_view_module": "@jupyter-widgets/controls",
       "_view_module_version": "1.5.0",
       "_view_name": "VBoxView",
       "box_style": "",
       "children": [
        "IPY_MODEL_f969f08228464fa892f8ed842a88685b",
        "IPY_MODEL_0465fac9c81340a99279f55d4e2f2917"
       ],
       "layout": "IPY_MODEL_ea6c7dbea20742759122ed39de1b0838"
      }
     },
     "1b51f5805f464131877e0ec0d4345807": {
      "model_module": "@jupyter-widgets/controls",
      "model_module_version": "1.5.0",
      "model_name": "FloatProgressModel",
      "state": {
       "_dom_classes": [],
       "_model_module": "@jupyter-widgets/controls",
       "_model_module_version": "1.5.0",
       "_model_name": "FloatProgressModel",
       "_view_count": null,
       "_view_module": "@jupyter-widgets/controls",
       "_view_module_version": "1.5.0",
       "_view_name": "ProgressView",
       "bar_style": "",
       "description": "",
       "description_tooltip": null,
       "layout": "IPY_MODEL_1351685b4bbf4e47a46c01dbc5f2e777",
       "max": 1,
       "min": 0,
       "orientation": "horizontal",
       "style": "IPY_MODEL_f9ba5889dfeb4a07a4cfb9c891f3aec7",
       "value": 1
      }
     },
     "1e17266ceed141ceb109ebab232b55b7": {
      "model_module": "@jupyter-widgets/controls",
      "model_module_version": "1.5.0",
      "model_name": "VBoxModel",
      "state": {
       "_dom_classes": [],
       "_model_module": "@jupyter-widgets/controls",
       "_model_module_version": "1.5.0",
       "_model_name": "VBoxModel",
       "_view_count": null,
       "_view_module": "@jupyter-widgets/controls",
       "_view_module_version": "1.5.0",
       "_view_name": "VBoxView",
       "box_style": "",
       "children": [
        "IPY_MODEL_0abdb2b035834210a14b6de82985ae64",
        "IPY_MODEL_66cbfc8a07b94ccbacd95aa0268fd69d"
       ],
       "layout": "IPY_MODEL_8e84a7deaeb641c2a83525fc855a1f87"
      }
     },
     "1f8e149c4c23402f9cf1293f0d2c3d3e": {
      "model_module": "@jupyter-widgets/base",
      "model_module_version": "1.2.0",
      "model_name": "LayoutModel",
      "state": {
       "_model_module": "@jupyter-widgets/base",
       "_model_module_version": "1.2.0",
       "_model_name": "LayoutModel",
       "_view_count": null,
       "_view_module": "@jupyter-widgets/base",
       "_view_module_version": "1.2.0",
       "_view_name": "LayoutView",
       "align_content": null,
       "align_items": null,
       "align_self": null,
       "border": null,
       "bottom": null,
       "display": null,
       "flex": null,
       "flex_flow": null,
       "grid_area": null,
       "grid_auto_columns": null,
       "grid_auto_flow": null,
       "grid_auto_rows": null,
       "grid_column": null,
       "grid_gap": null,
       "grid_row": null,
       "grid_template_areas": null,
       "grid_template_columns": null,
       "grid_template_rows": null,
       "height": null,
       "justify_content": null,
       "justify_items": null,
       "left": null,
       "margin": null,
       "max_height": null,
       "max_width": null,
       "min_height": null,
       "min_width": null,
       "object_fit": null,
       "object_position": null,
       "order": null,
       "overflow": null,
       "overflow_x": null,
       "overflow_y": null,
       "padding": null,
       "right": null,
       "top": null,
       "visibility": null,
       "width": null
      }
     },
     "30180232995940af97df82c46ffa5dd2": {
      "model_module": "@jupyter-widgets/controls",
      "model_module_version": "1.5.0",
      "model_name": "DescriptionStyleModel",
      "state": {
       "_model_module": "@jupyter-widgets/controls",
       "_model_module_version": "1.5.0",
       "_model_name": "DescriptionStyleModel",
       "_view_count": null,
       "_view_module": "@jupyter-widgets/base",
       "_view_module_version": "1.2.0",
       "_view_name": "StyleView",
       "description_width": ""
      }
     },
     "306329bce44c4a45b04d5e706a6a49ea": {
      "model_module": "@jupyter-widgets/base",
      "model_module_version": "1.2.0",
      "model_name": "LayoutModel",
      "state": {
       "_model_module": "@jupyter-widgets/base",
       "_model_module_version": "1.2.0",
       "_model_name": "LayoutModel",
       "_view_count": null,
       "_view_module": "@jupyter-widgets/base",
       "_view_module_version": "1.2.0",
       "_view_name": "LayoutView",
       "align_content": null,
       "align_items": null,
       "align_self": null,
       "border": null,
       "bottom": null,
       "display": null,
       "flex": null,
       "flex_flow": null,
       "grid_area": null,
       "grid_auto_columns": null,
       "grid_auto_flow": null,
       "grid_auto_rows": null,
       "grid_column": null,
       "grid_gap": null,
       "grid_row": null,
       "grid_template_areas": null,
       "grid_template_columns": null,
       "grid_template_rows": null,
       "height": null,
       "justify_content": null,
       "justify_items": null,
       "left": null,
       "margin": null,
       "max_height": null,
       "max_width": null,
       "min_height": null,
       "min_width": null,
       "object_fit": null,
       "object_position": null,
       "order": null,
       "overflow": null,
       "overflow_x": null,
       "overflow_y": null,
       "padding": null,
       "right": null,
       "top": null,
       "visibility": null,
       "width": null
      }
     },
     "32e5366af1464596a228e988cc3753cd": {
      "model_module": "@jupyter-widgets/controls",
      "model_module_version": "1.5.0",
      "model_name": "VBoxModel",
      "state": {
       "_dom_classes": [],
       "_model_module": "@jupyter-widgets/controls",
       "_model_module_version": "1.5.0",
       "_model_name": "VBoxModel",
       "_view_count": null,
       "_view_module": "@jupyter-widgets/controls",
       "_view_module_version": "1.5.0",
       "_view_name": "VBoxView",
       "box_style": "",
       "children": [
        "IPY_MODEL_85e1de32653a4e39b42d6d8081092d61",
        "IPY_MODEL_622f11a106724f6c8089b99de2698e6d"
       ],
       "layout": "IPY_MODEL_711b19a5d2c147e79c3358b4af86ec85"
      }
     },
     "34ad6b29d71a41b5abd4baa45adc9553": {
      "model_module": "@jupyter-widgets/controls",
      "model_module_version": "1.5.0",
      "model_name": "VBoxModel",
      "state": {
       "_dom_classes": [],
       "_model_module": "@jupyter-widgets/controls",
       "_model_module_version": "1.5.0",
       "_model_name": "VBoxModel",
       "_view_count": null,
       "_view_module": "@jupyter-widgets/controls",
       "_view_module_version": "1.5.0",
       "_view_name": "VBoxView",
       "box_style": "",
       "children": [
        "IPY_MODEL_b1515f832ef243c584d45726b2880160",
        "IPY_MODEL_78938777444e44cabc1f6980f82033ca"
       ],
       "layout": "IPY_MODEL_0444930cca4e40e891eb16743c79e175"
      }
     },
     "39aaa24c65e0454b8ed26322128dd555": {
      "model_module": "@jupyter-widgets/controls",
      "model_module_version": "1.5.0",
      "model_name": "VBoxModel",
      "state": {
       "_dom_classes": [],
       "_model_module": "@jupyter-widgets/controls",
       "_model_module_version": "1.5.0",
       "_model_name": "VBoxModel",
       "_view_count": null,
       "_view_module": "@jupyter-widgets/controls",
       "_view_module_version": "1.5.0",
       "_view_name": "VBoxView",
       "box_style": "",
       "children": [
        "IPY_MODEL_ddc8cb809c044135835ac5df35474acf",
        "IPY_MODEL_b7f483a9d1ad45dfbd55f9d7772228df"
       ],
       "layout": "IPY_MODEL_c4584e5b8e554e1abc10526acea0f41b"
      }
     },
     "3a6c643c402a479f84220212861d037b": {
      "model_module": "@jupyter-widgets/base",
      "model_module_version": "1.2.0",
      "model_name": "LayoutModel",
      "state": {
       "_model_module": "@jupyter-widgets/base",
       "_model_module_version": "1.2.0",
       "_model_name": "LayoutModel",
       "_view_count": null,
       "_view_module": "@jupyter-widgets/base",
       "_view_module_version": "1.2.0",
       "_view_name": "LayoutView",
       "align_content": null,
       "align_items": null,
       "align_self": null,
       "border": null,
       "bottom": null,
       "display": null,
       "flex": null,
       "flex_flow": null,
       "grid_area": null,
       "grid_auto_columns": null,
       "grid_auto_flow": null,
       "grid_auto_rows": null,
       "grid_column": null,
       "grid_gap": null,
       "grid_row": null,
       "grid_template_areas": null,
       "grid_template_columns": null,
       "grid_template_rows": null,
       "height": null,
       "justify_content": null,
       "justify_items": null,
       "left": null,
       "margin": null,
       "max_height": null,
       "max_width": null,
       "min_height": null,
       "min_width": null,
       "object_fit": null,
       "object_position": null,
       "order": null,
       "overflow": null,
       "overflow_x": null,
       "overflow_y": null,
       "padding": null,
       "right": null,
       "top": null,
       "visibility": null,
       "width": null
      }
     },
     "3b16dd7b4c2c43df9a6d3feddf46ab8b": {
      "model_module": "@jupyter-widgets/controls",
      "model_module_version": "1.5.0",
      "model_name": "DescriptionStyleModel",
      "state": {
       "_model_module": "@jupyter-widgets/controls",
       "_model_module_version": "1.5.0",
       "_model_name": "DescriptionStyleModel",
       "_view_count": null,
       "_view_module": "@jupyter-widgets/base",
       "_view_module_version": "1.2.0",
       "_view_name": "StyleView",
       "description_width": ""
      }
     },
     "3be0165f4dfd4c898a16035b379f74a7": {
      "model_module": "@jupyter-widgets/controls",
      "model_module_version": "1.5.0",
      "model_name": "VBoxModel",
      "state": {
       "_dom_classes": [],
       "_model_module": "@jupyter-widgets/controls",
       "_model_module_version": "1.5.0",
       "_model_name": "VBoxModel",
       "_view_count": null,
       "_view_module": "@jupyter-widgets/controls",
       "_view_module_version": "1.5.0",
       "_view_name": "VBoxView",
       "box_style": "",
       "children": [
        "IPY_MODEL_40088d02083640ca9a6762a3a0dcf670",
        "IPY_MODEL_5aae5e9bdd92462e9cffe29d4e014469"
       ],
       "layout": "IPY_MODEL_be6ed1e699b84cd698a58c464474a360"
      }
     },
     "40088d02083640ca9a6762a3a0dcf670": {
      "model_module": "@jupyter-widgets/controls",
      "model_module_version": "1.5.0",
      "model_name": "LabelModel",
      "state": {
       "_dom_classes": [],
       "_model_module": "@jupyter-widgets/controls",
       "_model_module_version": "1.5.0",
       "_model_name": "LabelModel",
       "_view_count": null,
       "_view_module": "@jupyter-widgets/controls",
       "_view_module_version": "1.5.0",
       "_view_name": "LabelView",
       "description": "",
       "description_tooltip": null,
       "layout": "IPY_MODEL_5edc8a6be4d94a6cb808b758f0d0e41f",
       "placeholder": "​",
       "style": "IPY_MODEL_48b6b7b8ca30404baa66a8b51c356a82",
       "value": " 25.71MB of 25.71MB uploaded (0.00MB deduped)\r"
      }
     },
     "44ab9ecbbfb8492fb0f993bbf1e5b2f1": {
      "model_module": "@jupyter-widgets/controls",
      "model_module_version": "1.5.0",
      "model_name": "ProgressStyleModel",
      "state": {
       "_model_module": "@jupyter-widgets/controls",
       "_model_module_version": "1.5.0",
       "_model_name": "ProgressStyleModel",
       "_view_count": null,
       "_view_module": "@jupyter-widgets/base",
       "_view_module_version": "1.2.0",
       "_view_name": "StyleView",
       "bar_color": null,
       "description_width": ""
      }
     },
     "48b6b7b8ca30404baa66a8b51c356a82": {
      "model_module": "@jupyter-widgets/controls",
      "model_module_version": "1.5.0",
      "model_name": "DescriptionStyleModel",
      "state": {
       "_model_module": "@jupyter-widgets/controls",
       "_model_module_version": "1.5.0",
       "_model_name": "DescriptionStyleModel",
       "_view_count": null,
       "_view_module": "@jupyter-widgets/base",
       "_view_module_version": "1.2.0",
       "_view_name": "StyleView",
       "description_width": ""
      }
     },
     "495119ef006d4105b6dfbcb5f297b308": {
      "model_module": "@jupyter-widgets/controls",
      "model_module_version": "1.5.0",
      "model_name": "ProgressStyleModel",
      "state": {
       "_model_module": "@jupyter-widgets/controls",
       "_model_module_version": "1.5.0",
       "_model_name": "ProgressStyleModel",
       "_view_count": null,
       "_view_module": "@jupyter-widgets/base",
       "_view_module_version": "1.2.0",
       "_view_name": "StyleView",
       "bar_color": null,
       "description_width": ""
      }
     },
     "4c2f9ff19cc14d75944bfaebd3849108": {
      "model_module": "@jupyter-widgets/controls",
      "model_module_version": "1.5.0",
      "model_name": "VBoxModel",
      "state": {
       "_dom_classes": [],
       "_model_module": "@jupyter-widgets/controls",
       "_model_module_version": "1.5.0",
       "_model_name": "VBoxModel",
       "_view_count": null,
       "_view_module": "@jupyter-widgets/controls",
       "_view_module_version": "1.5.0",
       "_view_name": "VBoxView",
       "box_style": "",
       "children": [
        "IPY_MODEL_7a9850f8a37f4823b78ee376ad33db7d",
        "IPY_MODEL_e8be2d0e70924a97be1b1c1fe9e36917"
       ],
       "layout": "IPY_MODEL_1f8e149c4c23402f9cf1293f0d2c3d3e"
      }
     },
     "4eeb9c7433dc4900b88e765070f5ccf5": {
      "model_module": "@jupyter-widgets/base",
      "model_module_version": "1.2.0",
      "model_name": "LayoutModel",
      "state": {
       "_model_module": "@jupyter-widgets/base",
       "_model_module_version": "1.2.0",
       "_model_name": "LayoutModel",
       "_view_count": null,
       "_view_module": "@jupyter-widgets/base",
       "_view_module_version": "1.2.0",
       "_view_name": "LayoutView",
       "align_content": null,
       "align_items": null,
       "align_self": null,
       "border": null,
       "bottom": null,
       "display": null,
       "flex": null,
       "flex_flow": null,
       "grid_area": null,
       "grid_auto_columns": null,
       "grid_auto_flow": null,
       "grid_auto_rows": null,
       "grid_column": null,
       "grid_gap": null,
       "grid_row": null,
       "grid_template_areas": null,
       "grid_template_columns": null,
       "grid_template_rows": null,
       "height": null,
       "justify_content": null,
       "justify_items": null,
       "left": null,
       "margin": null,
       "max_height": null,
       "max_width": null,
       "min_height": null,
       "min_width": null,
       "object_fit": null,
       "object_position": null,
       "order": null,
       "overflow": null,
       "overflow_x": null,
       "overflow_y": null,
       "padding": null,
       "right": null,
       "top": null,
       "visibility": null,
       "width": null
      }
     },
     "585163525e4b4716b3c57c55597a9cd3": {
      "model_module": "@jupyter-widgets/controls",
      "model_module_version": "1.5.0",
      "model_name": "ProgressStyleModel",
      "state": {
       "_model_module": "@jupyter-widgets/controls",
       "_model_module_version": "1.5.0",
       "_model_name": "ProgressStyleModel",
       "_view_count": null,
       "_view_module": "@jupyter-widgets/base",
       "_view_module_version": "1.2.0",
       "_view_name": "StyleView",
       "bar_color": null,
       "description_width": ""
      }
     },
     "5aae5e9bdd92462e9cffe29d4e014469": {
      "model_module": "@jupyter-widgets/controls",
      "model_module_version": "1.5.0",
      "model_name": "FloatProgressModel",
      "state": {
       "_dom_classes": [],
       "_model_module": "@jupyter-widgets/controls",
       "_model_module_version": "1.5.0",
       "_model_name": "FloatProgressModel",
       "_view_count": null,
       "_view_module": "@jupyter-widgets/controls",
       "_view_module_version": "1.5.0",
       "_view_name": "ProgressView",
       "bar_style": "",
       "description": "",
       "description_tooltip": null,
       "layout": "IPY_MODEL_9030d34ffac54fa886f9de7b70c7cd44",
       "max": 1,
       "min": 0,
       "orientation": "horizontal",
       "style": "IPY_MODEL_585163525e4b4716b3c57c55597a9cd3",
       "value": 1
      }
     },
     "5d799447947443c5b44016c429c9068b": {
      "model_module": "@jupyter-widgets/base",
      "model_module_version": "1.2.0",
      "model_name": "LayoutModel",
      "state": {
       "_model_module": "@jupyter-widgets/base",
       "_model_module_version": "1.2.0",
       "_model_name": "LayoutModel",
       "_view_count": null,
       "_view_module": "@jupyter-widgets/base",
       "_view_module_version": "1.2.0",
       "_view_name": "LayoutView",
       "align_content": null,
       "align_items": null,
       "align_self": null,
       "border": null,
       "bottom": null,
       "display": null,
       "flex": null,
       "flex_flow": null,
       "grid_area": null,
       "grid_auto_columns": null,
       "grid_auto_flow": null,
       "grid_auto_rows": null,
       "grid_column": null,
       "grid_gap": null,
       "grid_row": null,
       "grid_template_areas": null,
       "grid_template_columns": null,
       "grid_template_rows": null,
       "height": null,
       "justify_content": null,
       "justify_items": null,
       "left": null,
       "margin": null,
       "max_height": null,
       "max_width": null,
       "min_height": null,
       "min_width": null,
       "object_fit": null,
       "object_position": null,
       "order": null,
       "overflow": null,
       "overflow_x": null,
       "overflow_y": null,
       "padding": null,
       "right": null,
       "top": null,
       "visibility": null,
       "width": null
      }
     },
     "5edc8a6be4d94a6cb808b758f0d0e41f": {
      "model_module": "@jupyter-widgets/base",
      "model_module_version": "1.2.0",
      "model_name": "LayoutModel",
      "state": {
       "_model_module": "@jupyter-widgets/base",
       "_model_module_version": "1.2.0",
       "_model_name": "LayoutModel",
       "_view_count": null,
       "_view_module": "@jupyter-widgets/base",
       "_view_module_version": "1.2.0",
       "_view_name": "LayoutView",
       "align_content": null,
       "align_items": null,
       "align_self": null,
       "border": null,
       "bottom": null,
       "display": null,
       "flex": null,
       "flex_flow": null,
       "grid_area": null,
       "grid_auto_columns": null,
       "grid_auto_flow": null,
       "grid_auto_rows": null,
       "grid_column": null,
       "grid_gap": null,
       "grid_row": null,
       "grid_template_areas": null,
       "grid_template_columns": null,
       "grid_template_rows": null,
       "height": null,
       "justify_content": null,
       "justify_items": null,
       "left": null,
       "margin": null,
       "max_height": null,
       "max_width": null,
       "min_height": null,
       "min_width": null,
       "object_fit": null,
       "object_position": null,
       "order": null,
       "overflow": null,
       "overflow_x": null,
       "overflow_y": null,
       "padding": null,
       "right": null,
       "top": null,
       "visibility": null,
       "width": null
      }
     },
     "5ffd7ef9352d45cab50327119a069eb6": {
      "model_module": "@jupyter-widgets/controls",
      "model_module_version": "1.5.0",
      "model_name": "DescriptionStyleModel",
      "state": {
       "_model_module": "@jupyter-widgets/controls",
       "_model_module_version": "1.5.0",
       "_model_name": "DescriptionStyleModel",
       "_view_count": null,
       "_view_module": "@jupyter-widgets/base",
       "_view_module_version": "1.2.0",
       "_view_name": "StyleView",
       "description_width": ""
      }
     },
     "622f11a106724f6c8089b99de2698e6d": {
      "model_module": "@jupyter-widgets/controls",
      "model_module_version": "1.5.0",
      "model_name": "FloatProgressModel",
      "state": {
       "_dom_classes": [],
       "_model_module": "@jupyter-widgets/controls",
       "_model_module_version": "1.5.0",
       "_model_name": "FloatProgressModel",
       "_view_count": null,
       "_view_module": "@jupyter-widgets/controls",
       "_view_module_version": "1.5.0",
       "_view_name": "ProgressView",
       "bar_style": "",
       "description": "",
       "description_tooltip": null,
       "layout": "IPY_MODEL_4eeb9c7433dc4900b88e765070f5ccf5",
       "max": 1,
       "min": 0,
       "orientation": "horizontal",
       "style": "IPY_MODEL_c4ce8feef1ed4144bb6727b7638c4ceb",
       "value": 1
      }
     },
     "662ae58595fb485e89f5cbe4136d24db": {
      "model_module": "@jupyter-widgets/base",
      "model_module_version": "1.2.0",
      "model_name": "LayoutModel",
      "state": {
       "_model_module": "@jupyter-widgets/base",
       "_model_module_version": "1.2.0",
       "_model_name": "LayoutModel",
       "_view_count": null,
       "_view_module": "@jupyter-widgets/base",
       "_view_module_version": "1.2.0",
       "_view_name": "LayoutView",
       "align_content": null,
       "align_items": null,
       "align_self": null,
       "border": null,
       "bottom": null,
       "display": null,
       "flex": null,
       "flex_flow": null,
       "grid_area": null,
       "grid_auto_columns": null,
       "grid_auto_flow": null,
       "grid_auto_rows": null,
       "grid_column": null,
       "grid_gap": null,
       "grid_row": null,
       "grid_template_areas": null,
       "grid_template_columns": null,
       "grid_template_rows": null,
       "height": null,
       "justify_content": null,
       "justify_items": null,
       "left": null,
       "margin": null,
       "max_height": null,
       "max_width": null,
       "min_height": null,
       "min_width": null,
       "object_fit": null,
       "object_position": null,
       "order": null,
       "overflow": null,
       "overflow_x": null,
       "overflow_y": null,
       "padding": null,
       "right": null,
       "top": null,
       "visibility": null,
       "width": null
      }
     },
     "66cbfc8a07b94ccbacd95aa0268fd69d": {
      "model_module": "@jupyter-widgets/controls",
      "model_module_version": "1.5.0",
      "model_name": "FloatProgressModel",
      "state": {
       "_dom_classes": [],
       "_model_module": "@jupyter-widgets/controls",
       "_model_module_version": "1.5.0",
       "_model_name": "FloatProgressModel",
       "_view_count": null,
       "_view_module": "@jupyter-widgets/controls",
       "_view_module_version": "1.5.0",
       "_view_name": "ProgressView",
       "bar_style": "",
       "description": "",
       "description_tooltip": null,
       "layout": "IPY_MODEL_6f4881a0853c4326bad0a77bfe78c111",
       "max": 1,
       "min": 0,
       "orientation": "horizontal",
       "style": "IPY_MODEL_495119ef006d4105b6dfbcb5f297b308",
       "value": 1
      }
     },
     "6f4881a0853c4326bad0a77bfe78c111": {
      "model_module": "@jupyter-widgets/base",
      "model_module_version": "1.2.0",
      "model_name": "LayoutModel",
      "state": {
       "_model_module": "@jupyter-widgets/base",
       "_model_module_version": "1.2.0",
       "_model_name": "LayoutModel",
       "_view_count": null,
       "_view_module": "@jupyter-widgets/base",
       "_view_module_version": "1.2.0",
       "_view_name": "LayoutView",
       "align_content": null,
       "align_items": null,
       "align_self": null,
       "border": null,
       "bottom": null,
       "display": null,
       "flex": null,
       "flex_flow": null,
       "grid_area": null,
       "grid_auto_columns": null,
       "grid_auto_flow": null,
       "grid_auto_rows": null,
       "grid_column": null,
       "grid_gap": null,
       "grid_row": null,
       "grid_template_areas": null,
       "grid_template_columns": null,
       "grid_template_rows": null,
       "height": null,
       "justify_content": null,
       "justify_items": null,
       "left": null,
       "margin": null,
       "max_height": null,
       "max_width": null,
       "min_height": null,
       "min_width": null,
       "object_fit": null,
       "object_position": null,
       "order": null,
       "overflow": null,
       "overflow_x": null,
       "overflow_y": null,
       "padding": null,
       "right": null,
       "top": null,
       "visibility": null,
       "width": null
      }
     },
     "7111338227d64b8a88a5917668a09826": {
      "model_module": "@jupyter-widgets/controls",
      "model_module_version": "1.5.0",
      "model_name": "DescriptionStyleModel",
      "state": {
       "_model_module": "@jupyter-widgets/controls",
       "_model_module_version": "1.5.0",
       "_model_name": "DescriptionStyleModel",
       "_view_count": null,
       "_view_module": "@jupyter-widgets/base",
       "_view_module_version": "1.2.0",
       "_view_name": "StyleView",
       "description_width": ""
      }
     },
     "711b19a5d2c147e79c3358b4af86ec85": {
      "model_module": "@jupyter-widgets/base",
      "model_module_version": "1.2.0",
      "model_name": "LayoutModel",
      "state": {
       "_model_module": "@jupyter-widgets/base",
       "_model_module_version": "1.2.0",
       "_model_name": "LayoutModel",
       "_view_count": null,
       "_view_module": "@jupyter-widgets/base",
       "_view_module_version": "1.2.0",
       "_view_name": "LayoutView",
       "align_content": null,
       "align_items": null,
       "align_self": null,
       "border": null,
       "bottom": null,
       "display": null,
       "flex": null,
       "flex_flow": null,
       "grid_area": null,
       "grid_auto_columns": null,
       "grid_auto_flow": null,
       "grid_auto_rows": null,
       "grid_column": null,
       "grid_gap": null,
       "grid_row": null,
       "grid_template_areas": null,
       "grid_template_columns": null,
       "grid_template_rows": null,
       "height": null,
       "justify_content": null,
       "justify_items": null,
       "left": null,
       "margin": null,
       "max_height": null,
       "max_width": null,
       "min_height": null,
       "min_width": null,
       "object_fit": null,
       "object_position": null,
       "order": null,
       "overflow": null,
       "overflow_x": null,
       "overflow_y": null,
       "padding": null,
       "right": null,
       "top": null,
       "visibility": null,
       "width": null
      }
     },
     "75b7762af85d4d7cb7037e8ea15479e7": {
      "model_module": "@jupyter-widgets/base",
      "model_module_version": "1.2.0",
      "model_name": "LayoutModel",
      "state": {
       "_model_module": "@jupyter-widgets/base",
       "_model_module_version": "1.2.0",
       "_model_name": "LayoutModel",
       "_view_count": null,
       "_view_module": "@jupyter-widgets/base",
       "_view_module_version": "1.2.0",
       "_view_name": "LayoutView",
       "align_content": null,
       "align_items": null,
       "align_self": null,
       "border": null,
       "bottom": null,
       "display": null,
       "flex": null,
       "flex_flow": null,
       "grid_area": null,
       "grid_auto_columns": null,
       "grid_auto_flow": null,
       "grid_auto_rows": null,
       "grid_column": null,
       "grid_gap": null,
       "grid_row": null,
       "grid_template_areas": null,
       "grid_template_columns": null,
       "grid_template_rows": null,
       "height": null,
       "justify_content": null,
       "justify_items": null,
       "left": null,
       "margin": null,
       "max_height": null,
       "max_width": null,
       "min_height": null,
       "min_width": null,
       "object_fit": null,
       "object_position": null,
       "order": null,
       "overflow": null,
       "overflow_x": null,
       "overflow_y": null,
       "padding": null,
       "right": null,
       "top": null,
       "visibility": null,
       "width": null
      }
     },
     "780e8bd0145d40759f5d8f8543b91ed2": {
      "model_module": "@jupyter-widgets/base",
      "model_module_version": "1.2.0",
      "model_name": "LayoutModel",
      "state": {
       "_model_module": "@jupyter-widgets/base",
       "_model_module_version": "1.2.0",
       "_model_name": "LayoutModel",
       "_view_count": null,
       "_view_module": "@jupyter-widgets/base",
       "_view_module_version": "1.2.0",
       "_view_name": "LayoutView",
       "align_content": null,
       "align_items": null,
       "align_self": null,
       "border": null,
       "bottom": null,
       "display": null,
       "flex": null,
       "flex_flow": null,
       "grid_area": null,
       "grid_auto_columns": null,
       "grid_auto_flow": null,
       "grid_auto_rows": null,
       "grid_column": null,
       "grid_gap": null,
       "grid_row": null,
       "grid_template_areas": null,
       "grid_template_columns": null,
       "grid_template_rows": null,
       "height": null,
       "justify_content": null,
       "justify_items": null,
       "left": null,
       "margin": null,
       "max_height": null,
       "max_width": null,
       "min_height": null,
       "min_width": null,
       "object_fit": null,
       "object_position": null,
       "order": null,
       "overflow": null,
       "overflow_x": null,
       "overflow_y": null,
       "padding": null,
       "right": null,
       "top": null,
       "visibility": null,
       "width": null
      }
     },
     "78938777444e44cabc1f6980f82033ca": {
      "model_module": "@jupyter-widgets/controls",
      "model_module_version": "1.5.0",
      "model_name": "FloatProgressModel",
      "state": {
       "_dom_classes": [],
       "_model_module": "@jupyter-widgets/controls",
       "_model_module_version": "1.5.0",
       "_model_name": "FloatProgressModel",
       "_view_count": null,
       "_view_module": "@jupyter-widgets/controls",
       "_view_module_version": "1.5.0",
       "_view_name": "ProgressView",
       "bar_style": "",
       "description": "",
       "description_tooltip": null,
       "layout": "IPY_MODEL_c75d8a7a91c64aa08b11c8c086cbeead",
       "max": 1,
       "min": 0,
       "orientation": "horizontal",
       "style": "IPY_MODEL_c16dc151dd694dd9846d241f02fd27e4",
       "value": 1
      }
     },
     "7a9850f8a37f4823b78ee376ad33db7d": {
      "model_module": "@jupyter-widgets/controls",
      "model_module_version": "1.5.0",
      "model_name": "LabelModel",
      "state": {
       "_dom_classes": [],
       "_model_module": "@jupyter-widgets/controls",
       "_model_module_version": "1.5.0",
       "_model_name": "LabelModel",
       "_view_count": null,
       "_view_module": "@jupyter-widgets/controls",
       "_view_module_version": "1.5.0",
       "_view_name": "LabelView",
       "description": "",
       "description_tooltip": null,
       "layout": "IPY_MODEL_5d799447947443c5b44016c429c9068b",
       "placeholder": "​",
       "style": "IPY_MODEL_bd89801568394c309078b6d2e00100f7",
       "value": " 0.13MB of 0.13MB uploaded (0.00MB deduped)\r"
      }
     },
     "7b08725223cb4ed288e4d037ccbd9ad0": {
      "model_module": "@jupyter-widgets/base",
      "model_module_version": "1.2.0",
      "model_name": "LayoutModel",
      "state": {
       "_model_module": "@jupyter-widgets/base",
       "_model_module_version": "1.2.0",
       "_model_name": "LayoutModel",
       "_view_count": null,
       "_view_module": "@jupyter-widgets/base",
       "_view_module_version": "1.2.0",
       "_view_name": "LayoutView",
       "align_content": null,
       "align_items": null,
       "align_self": null,
       "border": null,
       "bottom": null,
       "display": null,
       "flex": null,
       "flex_flow": null,
       "grid_area": null,
       "grid_auto_columns": null,
       "grid_auto_flow": null,
       "grid_auto_rows": null,
       "grid_column": null,
       "grid_gap": null,
       "grid_row": null,
       "grid_template_areas": null,
       "grid_template_columns": null,
       "grid_template_rows": null,
       "height": null,
       "justify_content": null,
       "justify_items": null,
       "left": null,
       "margin": null,
       "max_height": null,
       "max_width": null,
       "min_height": null,
       "min_width": null,
       "object_fit": null,
       "object_position": null,
       "order": null,
       "overflow": null,
       "overflow_x": null,
       "overflow_y": null,
       "padding": null,
       "right": null,
       "top": null,
       "visibility": null,
       "width": null
      }
     },
     "81dbded20c57426f8664e34ae4201792": {
      "model_module": "@jupyter-widgets/base",
      "model_module_version": "1.2.0",
      "model_name": "LayoutModel",
      "state": {
       "_model_module": "@jupyter-widgets/base",
       "_model_module_version": "1.2.0",
       "_model_name": "LayoutModel",
       "_view_count": null,
       "_view_module": "@jupyter-widgets/base",
       "_view_module_version": "1.2.0",
       "_view_name": "LayoutView",
       "align_content": null,
       "align_items": null,
       "align_self": null,
       "border": null,
       "bottom": null,
       "display": null,
       "flex": null,
       "flex_flow": null,
       "grid_area": null,
       "grid_auto_columns": null,
       "grid_auto_flow": null,
       "grid_auto_rows": null,
       "grid_column": null,
       "grid_gap": null,
       "grid_row": null,
       "grid_template_areas": null,
       "grid_template_columns": null,
       "grid_template_rows": null,
       "height": null,
       "justify_content": null,
       "justify_items": null,
       "left": null,
       "margin": null,
       "max_height": null,
       "max_width": null,
       "min_height": null,
       "min_width": null,
       "object_fit": null,
       "object_position": null,
       "order": null,
       "overflow": null,
       "overflow_x": null,
       "overflow_y": null,
       "padding": null,
       "right": null,
       "top": null,
       "visibility": null,
       "width": null
      }
     },
     "85e1de32653a4e39b42d6d8081092d61": {
      "model_module": "@jupyter-widgets/controls",
      "model_module_version": "1.5.0",
      "model_name": "LabelModel",
      "state": {
       "_dom_classes": [],
       "_model_module": "@jupyter-widgets/controls",
       "_model_module_version": "1.5.0",
       "_model_name": "LabelModel",
       "_view_count": null,
       "_view_module": "@jupyter-widgets/controls",
       "_view_module_version": "1.5.0",
       "_view_name": "LabelView",
       "description": "",
       "description_tooltip": null,
       "layout": "IPY_MODEL_75b7762af85d4d7cb7037e8ea15479e7",
       "placeholder": "​",
       "style": "IPY_MODEL_5ffd7ef9352d45cab50327119a069eb6",
       "value": " 0.08MB of 0.08MB uploaded (0.00MB deduped)\r"
      }
     },
     "8884562ae6d64dfbbf5a1e05506d015e": {
      "model_module": "@jupyter-widgets/base",
      "model_module_version": "1.2.0",
      "model_name": "LayoutModel",
      "state": {
       "_model_module": "@jupyter-widgets/base",
       "_model_module_version": "1.2.0",
       "_model_name": "LayoutModel",
       "_view_count": null,
       "_view_module": "@jupyter-widgets/base",
       "_view_module_version": "1.2.0",
       "_view_name": "LayoutView",
       "align_content": null,
       "align_items": null,
       "align_self": null,
       "border": null,
       "bottom": null,
       "display": null,
       "flex": null,
       "flex_flow": null,
       "grid_area": null,
       "grid_auto_columns": null,
       "grid_auto_flow": null,
       "grid_auto_rows": null,
       "grid_column": null,
       "grid_gap": null,
       "grid_row": null,
       "grid_template_areas": null,
       "grid_template_columns": null,
       "grid_template_rows": null,
       "height": null,
       "justify_content": null,
       "justify_items": null,
       "left": null,
       "margin": null,
       "max_height": null,
       "max_width": null,
       "min_height": null,
       "min_width": null,
       "object_fit": null,
       "object_position": null,
       "order": null,
       "overflow": null,
       "overflow_x": null,
       "overflow_y": null,
       "padding": null,
       "right": null,
       "top": null,
       "visibility": null,
       "width": null
      }
     },
     "8e641e1a3acc463dbde7deab2c490978": {
      "model_module": "@jupyter-widgets/controls",
      "model_module_version": "1.5.0",
      "model_name": "LabelModel",
      "state": {
       "_dom_classes": [],
       "_model_module": "@jupyter-widgets/controls",
       "_model_module_version": "1.5.0",
       "_model_name": "LabelModel",
       "_view_count": null,
       "_view_module": "@jupyter-widgets/controls",
       "_view_module_version": "1.5.0",
       "_view_name": "LabelView",
       "description": "",
       "description_tooltip": null,
       "layout": "IPY_MODEL_e89683a7c77842d8b09964864c79f7a4",
       "placeholder": "​",
       "style": "IPY_MODEL_7111338227d64b8a88a5917668a09826",
       "value": " 0.04MB of 0.04MB uploaded (0.00MB deduped)\r"
      }
     },
     "8e84a7deaeb641c2a83525fc855a1f87": {
      "model_module": "@jupyter-widgets/base",
      "model_module_version": "1.2.0",
      "model_name": "LayoutModel",
      "state": {
       "_model_module": "@jupyter-widgets/base",
       "_model_module_version": "1.2.0",
       "_model_name": "LayoutModel",
       "_view_count": null,
       "_view_module": "@jupyter-widgets/base",
       "_view_module_version": "1.2.0",
       "_view_name": "LayoutView",
       "align_content": null,
       "align_items": null,
       "align_self": null,
       "border": null,
       "bottom": null,
       "display": null,
       "flex": null,
       "flex_flow": null,
       "grid_area": null,
       "grid_auto_columns": null,
       "grid_auto_flow": null,
       "grid_auto_rows": null,
       "grid_column": null,
       "grid_gap": null,
       "grid_row": null,
       "grid_template_areas": null,
       "grid_template_columns": null,
       "grid_template_rows": null,
       "height": null,
       "justify_content": null,
       "justify_items": null,
       "left": null,
       "margin": null,
       "max_height": null,
       "max_width": null,
       "min_height": null,
       "min_width": null,
       "object_fit": null,
       "object_position": null,
       "order": null,
       "overflow": null,
       "overflow_x": null,
       "overflow_y": null,
       "padding": null,
       "right": null,
       "top": null,
       "visibility": null,
       "width": null
      }
     },
     "9030d34ffac54fa886f9de7b70c7cd44": {
      "model_module": "@jupyter-widgets/base",
      "model_module_version": "1.2.0",
      "model_name": "LayoutModel",
      "state": {
       "_model_module": "@jupyter-widgets/base",
       "_model_module_version": "1.2.0",
       "_model_name": "LayoutModel",
       "_view_count": null,
       "_view_module": "@jupyter-widgets/base",
       "_view_module_version": "1.2.0",
       "_view_name": "LayoutView",
       "align_content": null,
       "align_items": null,
       "align_self": null,
       "border": null,
       "bottom": null,
       "display": null,
       "flex": null,
       "flex_flow": null,
       "grid_area": null,
       "grid_auto_columns": null,
       "grid_auto_flow": null,
       "grid_auto_rows": null,
       "grid_column": null,
       "grid_gap": null,
       "grid_row": null,
       "grid_template_areas": null,
       "grid_template_columns": null,
       "grid_template_rows": null,
       "height": null,
       "justify_content": null,
       "justify_items": null,
       "left": null,
       "margin": null,
       "max_height": null,
       "max_width": null,
       "min_height": null,
       "min_width": null,
       "object_fit": null,
       "object_position": null,
       "order": null,
       "overflow": null,
       "overflow_x": null,
       "overflow_y": null,
       "padding": null,
       "right": null,
       "top": null,
       "visibility": null,
       "width": null
      }
     },
     "94b04a48398243ca97d7c8d89279e370": {
      "model_module": "@jupyter-widgets/controls",
      "model_module_version": "1.5.0",
      "model_name": "FloatProgressModel",
      "state": {
       "_dom_classes": [],
       "_model_module": "@jupyter-widgets/controls",
       "_model_module_version": "1.5.0",
       "_model_name": "FloatProgressModel",
       "_view_count": null,
       "_view_module": "@jupyter-widgets/controls",
       "_view_module_version": "1.5.0",
       "_view_name": "ProgressView",
       "bar_style": "",
       "description": "",
       "description_tooltip": null,
       "layout": "IPY_MODEL_662ae58595fb485e89f5cbe4136d24db",
       "max": 1,
       "min": 0,
       "orientation": "horizontal",
       "style": "IPY_MODEL_b19ff1dda9e043198cd725684018aac7",
       "value": 1
      }
     },
     "9cc2e8cdcdc54dfab2596c50f1f43cc0": {
      "model_module": "@jupyter-widgets/controls",
      "model_module_version": "1.5.0",
      "model_name": "VBoxModel",
      "state": {
       "_dom_classes": [],
       "_model_module": "@jupyter-widgets/controls",
       "_model_module_version": "1.5.0",
       "_model_name": "VBoxModel",
       "_view_count": null,
       "_view_module": "@jupyter-widgets/controls",
       "_view_module_version": "1.5.0",
       "_view_name": "VBoxView",
       "box_style": "",
       "children": [
        "IPY_MODEL_b8e6504da18549238a3266a1647ef639",
        "IPY_MODEL_94b04a48398243ca97d7c8d89279e370"
       ],
       "layout": "IPY_MODEL_15b69471a7a24836a1d44c29ba252f92"
      }
     },
     "b1515f832ef243c584d45726b2880160": {
      "model_module": "@jupyter-widgets/controls",
      "model_module_version": "1.5.0",
      "model_name": "LabelModel",
      "state": {
       "_dom_classes": [],
       "_model_module": "@jupyter-widgets/controls",
       "_model_module_version": "1.5.0",
       "_model_name": "LabelModel",
       "_view_count": null,
       "_view_module": "@jupyter-widgets/controls",
       "_view_module_version": "1.5.0",
       "_view_name": "LabelView",
       "description": "",
       "description_tooltip": null,
       "layout": "IPY_MODEL_7b08725223cb4ed288e4d037ccbd9ad0",
       "placeholder": "​",
       "style": "IPY_MODEL_3b16dd7b4c2c43df9a6d3feddf46ab8b",
       "value": " 0.02MB of 0.02MB uploaded (0.00MB deduped)\r"
      }
     },
     "b19ff1dda9e043198cd725684018aac7": {
      "model_module": "@jupyter-widgets/controls",
      "model_module_version": "1.5.0",
      "model_name": "ProgressStyleModel",
      "state": {
       "_model_module": "@jupyter-widgets/controls",
       "_model_module_version": "1.5.0",
       "_model_name": "ProgressStyleModel",
       "_view_count": null,
       "_view_module": "@jupyter-widgets/base",
       "_view_module_version": "1.2.0",
       "_view_name": "StyleView",
       "bar_color": null,
       "description_width": ""
      }
     },
     "b35692d27e1e459f9d2c99fda499ec06": {
      "model_module": "@jupyter-widgets/base",
      "model_module_version": "1.2.0",
      "model_name": "LayoutModel",
      "state": {
       "_model_module": "@jupyter-widgets/base",
       "_model_module_version": "1.2.0",
       "_model_name": "LayoutModel",
       "_view_count": null,
       "_view_module": "@jupyter-widgets/base",
       "_view_module_version": "1.2.0",
       "_view_name": "LayoutView",
       "align_content": null,
       "align_items": null,
       "align_self": null,
       "border": null,
       "bottom": null,
       "display": null,
       "flex": null,
       "flex_flow": null,
       "grid_area": null,
       "grid_auto_columns": null,
       "grid_auto_flow": null,
       "grid_auto_rows": null,
       "grid_column": null,
       "grid_gap": null,
       "grid_row": null,
       "grid_template_areas": null,
       "grid_template_columns": null,
       "grid_template_rows": null,
       "height": null,
       "justify_content": null,
       "justify_items": null,
       "left": null,
       "margin": null,
       "max_height": null,
       "max_width": null,
       "min_height": null,
       "min_width": null,
       "object_fit": null,
       "object_position": null,
       "order": null,
       "overflow": null,
       "overflow_x": null,
       "overflow_y": null,
       "padding": null,
       "right": null,
       "top": null,
       "visibility": null,
       "width": null
      }
     },
     "b7f483a9d1ad45dfbd55f9d7772228df": {
      "model_module": "@jupyter-widgets/controls",
      "model_module_version": "1.5.0",
      "model_name": "FloatProgressModel",
      "state": {
       "_dom_classes": [],
       "_model_module": "@jupyter-widgets/controls",
       "_model_module_version": "1.5.0",
       "_model_name": "FloatProgressModel",
       "_view_count": null,
       "_view_module": "@jupyter-widgets/controls",
       "_view_module_version": "1.5.0",
       "_view_name": "ProgressView",
       "bar_style": "",
       "description": "",
       "description_tooltip": null,
       "layout": "IPY_MODEL_81dbded20c57426f8664e34ae4201792",
       "max": 1,
       "min": 0,
       "orientation": "horizontal",
       "style": "IPY_MODEL_44ab9ecbbfb8492fb0f993bbf1e5b2f1",
       "value": 1
      }
     },
     "b8e6504da18549238a3266a1647ef639": {
      "model_module": "@jupyter-widgets/controls",
      "model_module_version": "1.5.0",
      "model_name": "LabelModel",
      "state": {
       "_dom_classes": [],
       "_model_module": "@jupyter-widgets/controls",
       "_model_module_version": "1.5.0",
       "_model_name": "LabelModel",
       "_view_count": null,
       "_view_module": "@jupyter-widgets/controls",
       "_view_module_version": "1.5.0",
       "_view_name": "LabelView",
       "description": "",
       "description_tooltip": null,
       "layout": "IPY_MODEL_038586dc24e64c0c8a8181ab126694dc",
       "placeholder": "​",
       "style": "IPY_MODEL_04b0a4ee95944e81be3517b928b6c213",
       "value": " 24.91MB of 24.91MB uploaded (0.00MB deduped)\r"
      }
     },
     "ba431f20996149fc8e95c692fb162640": {
      "model_module": "@jupyter-widgets/base",
      "model_module_version": "1.2.0",
      "model_name": "LayoutModel",
      "state": {
       "_model_module": "@jupyter-widgets/base",
       "_model_module_version": "1.2.0",
       "_model_name": "LayoutModel",
       "_view_count": null,
       "_view_module": "@jupyter-widgets/base",
       "_view_module_version": "1.2.0",
       "_view_name": "LayoutView",
       "align_content": null,
       "align_items": null,
       "align_self": null,
       "border": null,
       "bottom": null,
       "display": null,
       "flex": null,
       "flex_flow": null,
       "grid_area": null,
       "grid_auto_columns": null,
       "grid_auto_flow": null,
       "grid_auto_rows": null,
       "grid_column": null,
       "grid_gap": null,
       "grid_row": null,
       "grid_template_areas": null,
       "grid_template_columns": null,
       "grid_template_rows": null,
       "height": null,
       "justify_content": null,
       "justify_items": null,
       "left": null,
       "margin": null,
       "max_height": null,
       "max_width": null,
       "min_height": null,
       "min_width": null,
       "object_fit": null,
       "object_position": null,
       "order": null,
       "overflow": null,
       "overflow_x": null,
       "overflow_y": null,
       "padding": null,
       "right": null,
       "top": null,
       "visibility": null,
       "width": null
      }
     },
     "bd89801568394c309078b6d2e00100f7": {
      "model_module": "@jupyter-widgets/controls",
      "model_module_version": "1.5.0",
      "model_name": "DescriptionStyleModel",
      "state": {
       "_model_module": "@jupyter-widgets/controls",
       "_model_module_version": "1.5.0",
       "_model_name": "DescriptionStyleModel",
       "_view_count": null,
       "_view_module": "@jupyter-widgets/base",
       "_view_module_version": "1.2.0",
       "_view_name": "StyleView",
       "description_width": ""
      }
     },
     "be6ed1e699b84cd698a58c464474a360": {
      "model_module": "@jupyter-widgets/base",
      "model_module_version": "1.2.0",
      "model_name": "LayoutModel",
      "state": {
       "_model_module": "@jupyter-widgets/base",
       "_model_module_version": "1.2.0",
       "_model_name": "LayoutModel",
       "_view_count": null,
       "_view_module": "@jupyter-widgets/base",
       "_view_module_version": "1.2.0",
       "_view_name": "LayoutView",
       "align_content": null,
       "align_items": null,
       "align_self": null,
       "border": null,
       "bottom": null,
       "display": null,
       "flex": null,
       "flex_flow": null,
       "grid_area": null,
       "grid_auto_columns": null,
       "grid_auto_flow": null,
       "grid_auto_rows": null,
       "grid_column": null,
       "grid_gap": null,
       "grid_row": null,
       "grid_template_areas": null,
       "grid_template_columns": null,
       "grid_template_rows": null,
       "height": null,
       "justify_content": null,
       "justify_items": null,
       "left": null,
       "margin": null,
       "max_height": null,
       "max_width": null,
       "min_height": null,
       "min_width": null,
       "object_fit": null,
       "object_position": null,
       "order": null,
       "overflow": null,
       "overflow_x": null,
       "overflow_y": null,
       "padding": null,
       "right": null,
       "top": null,
       "visibility": null,
       "width": null
      }
     },
     "c0a656f8d34f4c569d366b3622a6ef09": {
      "model_module": "@jupyter-widgets/controls",
      "model_module_version": "1.5.0",
      "model_name": "DescriptionStyleModel",
      "state": {
       "_model_module": "@jupyter-widgets/controls",
       "_model_module_version": "1.5.0",
       "_model_name": "DescriptionStyleModel",
       "_view_count": null,
       "_view_module": "@jupyter-widgets/base",
       "_view_module_version": "1.2.0",
       "_view_name": "StyleView",
       "description_width": ""
      }
     },
     "c16dc151dd694dd9846d241f02fd27e4": {
      "model_module": "@jupyter-widgets/controls",
      "model_module_version": "1.5.0",
      "model_name": "ProgressStyleModel",
      "state": {
       "_model_module": "@jupyter-widgets/controls",
       "_model_module_version": "1.5.0",
       "_model_name": "ProgressStyleModel",
       "_view_count": null,
       "_view_module": "@jupyter-widgets/base",
       "_view_module_version": "1.2.0",
       "_view_name": "StyleView",
       "bar_color": null,
       "description_width": ""
      }
     },
     "c4584e5b8e554e1abc10526acea0f41b": {
      "model_module": "@jupyter-widgets/base",
      "model_module_version": "1.2.0",
      "model_name": "LayoutModel",
      "state": {
       "_model_module": "@jupyter-widgets/base",
       "_model_module_version": "1.2.0",
       "_model_name": "LayoutModel",
       "_view_count": null,
       "_view_module": "@jupyter-widgets/base",
       "_view_module_version": "1.2.0",
       "_view_name": "LayoutView",
       "align_content": null,
       "align_items": null,
       "align_self": null,
       "border": null,
       "bottom": null,
       "display": null,
       "flex": null,
       "flex_flow": null,
       "grid_area": null,
       "grid_auto_columns": null,
       "grid_auto_flow": null,
       "grid_auto_rows": null,
       "grid_column": null,
       "grid_gap": null,
       "grid_row": null,
       "grid_template_areas": null,
       "grid_template_columns": null,
       "grid_template_rows": null,
       "height": null,
       "justify_content": null,
       "justify_items": null,
       "left": null,
       "margin": null,
       "max_height": null,
       "max_width": null,
       "min_height": null,
       "min_width": null,
       "object_fit": null,
       "object_position": null,
       "order": null,
       "overflow": null,
       "overflow_x": null,
       "overflow_y": null,
       "padding": null,
       "right": null,
       "top": null,
       "visibility": null,
       "width": null
      }
     },
     "c4ce8feef1ed4144bb6727b7638c4ceb": {
      "model_module": "@jupyter-widgets/controls",
      "model_module_version": "1.5.0",
      "model_name": "ProgressStyleModel",
      "state": {
       "_model_module": "@jupyter-widgets/controls",
       "_model_module_version": "1.5.0",
       "_model_name": "ProgressStyleModel",
       "_view_count": null,
       "_view_module": "@jupyter-widgets/base",
       "_view_module_version": "1.2.0",
       "_view_name": "StyleView",
       "bar_color": null,
       "description_width": ""
      }
     },
     "c75d8a7a91c64aa08b11c8c086cbeead": {
      "model_module": "@jupyter-widgets/base",
      "model_module_version": "1.2.0",
      "model_name": "LayoutModel",
      "state": {
       "_model_module": "@jupyter-widgets/base",
       "_model_module_version": "1.2.0",
       "_model_name": "LayoutModel",
       "_view_count": null,
       "_view_module": "@jupyter-widgets/base",
       "_view_module_version": "1.2.0",
       "_view_name": "LayoutView",
       "align_content": null,
       "align_items": null,
       "align_self": null,
       "border": null,
       "bottom": null,
       "display": null,
       "flex": null,
       "flex_flow": null,
       "grid_area": null,
       "grid_auto_columns": null,
       "grid_auto_flow": null,
       "grid_auto_rows": null,
       "grid_column": null,
       "grid_gap": null,
       "grid_row": null,
       "grid_template_areas": null,
       "grid_template_columns": null,
       "grid_template_rows": null,
       "height": null,
       "justify_content": null,
       "justify_items": null,
       "left": null,
       "margin": null,
       "max_height": null,
       "max_width": null,
       "min_height": null,
       "min_width": null,
       "object_fit": null,
       "object_position": null,
       "order": null,
       "overflow": null,
       "overflow_x": null,
       "overflow_y": null,
       "padding": null,
       "right": null,
       "top": null,
       "visibility": null,
       "width": null
      }
     },
     "d8762c4a478142e09ee6066d1bc525b9": {
      "model_module": "@jupyter-widgets/controls",
      "model_module_version": "1.5.0",
      "model_name": "DescriptionStyleModel",
      "state": {
       "_model_module": "@jupyter-widgets/controls",
       "_model_module_version": "1.5.0",
       "_model_name": "DescriptionStyleModel",
       "_view_count": null,
       "_view_module": "@jupyter-widgets/base",
       "_view_module_version": "1.2.0",
       "_view_name": "StyleView",
       "description_width": ""
      }
     },
     "ddc8cb809c044135835ac5df35474acf": {
      "model_module": "@jupyter-widgets/controls",
      "model_module_version": "1.5.0",
      "model_name": "LabelModel",
      "state": {
       "_dom_classes": [],
       "_model_module": "@jupyter-widgets/controls",
       "_model_module_version": "1.5.0",
       "_model_name": "LabelModel",
       "_view_count": null,
       "_view_module": "@jupyter-widgets/controls",
       "_view_module_version": "1.5.0",
       "_view_name": "LabelView",
       "description": "",
       "description_tooltip": null,
       "layout": "IPY_MODEL_780e8bd0145d40759f5d8f8543b91ed2",
       "placeholder": "​",
       "style": "IPY_MODEL_d8762c4a478142e09ee6066d1bc525b9",
       "value": " 0.05MB of 0.05MB uploaded (0.00MB deduped)\r"
      }
     },
     "e84b9527bfb245e1994687e1fe3f4a6e": {
      "model_module": "@jupyter-widgets/controls",
      "model_module_version": "1.5.0",
      "model_name": "ProgressStyleModel",
      "state": {
       "_model_module": "@jupyter-widgets/controls",
       "_model_module_version": "1.5.0",
       "_model_name": "ProgressStyleModel",
       "_view_count": null,
       "_view_module": "@jupyter-widgets/base",
       "_view_module_version": "1.2.0",
       "_view_name": "StyleView",
       "bar_color": null,
       "description_width": ""
      }
     },
     "e89683a7c77842d8b09964864c79f7a4": {
      "model_module": "@jupyter-widgets/base",
      "model_module_version": "1.2.0",
      "model_name": "LayoutModel",
      "state": {
       "_model_module": "@jupyter-widgets/base",
       "_model_module_version": "1.2.0",
       "_model_name": "LayoutModel",
       "_view_count": null,
       "_view_module": "@jupyter-widgets/base",
       "_view_module_version": "1.2.0",
       "_view_name": "LayoutView",
       "align_content": null,
       "align_items": null,
       "align_self": null,
       "border": null,
       "bottom": null,
       "display": null,
       "flex": null,
       "flex_flow": null,
       "grid_area": null,
       "grid_auto_columns": null,
       "grid_auto_flow": null,
       "grid_auto_rows": null,
       "grid_column": null,
       "grid_gap": null,
       "grid_row": null,
       "grid_template_areas": null,
       "grid_template_columns": null,
       "grid_template_rows": null,
       "height": null,
       "justify_content": null,
       "justify_items": null,
       "left": null,
       "margin": null,
       "max_height": null,
       "max_width": null,
       "min_height": null,
       "min_width": null,
       "object_fit": null,
       "object_position": null,
       "order": null,
       "overflow": null,
       "overflow_x": null,
       "overflow_y": null,
       "padding": null,
       "right": null,
       "top": null,
       "visibility": null,
       "width": null
      }
     },
     "e8be2d0e70924a97be1b1c1fe9e36917": {
      "model_module": "@jupyter-widgets/controls",
      "model_module_version": "1.5.0",
      "model_name": "FloatProgressModel",
      "state": {
       "_dom_classes": [],
       "_model_module": "@jupyter-widgets/controls",
       "_model_module_version": "1.5.0",
       "_model_name": "FloatProgressModel",
       "_view_count": null,
       "_view_module": "@jupyter-widgets/controls",
       "_view_module_version": "1.5.0",
       "_view_name": "ProgressView",
       "bar_style": "",
       "description": "",
       "description_tooltip": null,
       "layout": "IPY_MODEL_306329bce44c4a45b04d5e706a6a49ea",
       "max": 1,
       "min": 0,
       "orientation": "horizontal",
       "style": "IPY_MODEL_011e18507a8942eeaea20e018bb26376",
       "value": 1
      }
     },
     "ea6c7dbea20742759122ed39de1b0838": {
      "model_module": "@jupyter-widgets/base",
      "model_module_version": "1.2.0",
      "model_name": "LayoutModel",
      "state": {
       "_model_module": "@jupyter-widgets/base",
       "_model_module_version": "1.2.0",
       "_model_name": "LayoutModel",
       "_view_count": null,
       "_view_module": "@jupyter-widgets/base",
       "_view_module_version": "1.2.0",
       "_view_name": "LayoutView",
       "align_content": null,
       "align_items": null,
       "align_self": null,
       "border": null,
       "bottom": null,
       "display": null,
       "flex": null,
       "flex_flow": null,
       "grid_area": null,
       "grid_auto_columns": null,
       "grid_auto_flow": null,
       "grid_auto_rows": null,
       "grid_column": null,
       "grid_gap": null,
       "grid_row": null,
       "grid_template_areas": null,
       "grid_template_columns": null,
       "grid_template_rows": null,
       "height": null,
       "justify_content": null,
       "justify_items": null,
       "left": null,
       "margin": null,
       "max_height": null,
       "max_width": null,
       "min_height": null,
       "min_width": null,
       "object_fit": null,
       "object_position": null,
       "order": null,
       "overflow": null,
       "overflow_x": null,
       "overflow_y": null,
       "padding": null,
       "right": null,
       "top": null,
       "visibility": null,
       "width": null
      }
     },
     "f969f08228464fa892f8ed842a88685b": {
      "model_module": "@jupyter-widgets/controls",
      "model_module_version": "1.5.0",
      "model_name": "LabelModel",
      "state": {
       "_dom_classes": [],
       "_model_module": "@jupyter-widgets/controls",
       "_model_module_version": "1.5.0",
       "_model_name": "LabelModel",
       "_view_count": null,
       "_view_module": "@jupyter-widgets/controls",
       "_view_module_version": "1.5.0",
       "_view_name": "LabelView",
       "description": "",
       "description_tooltip": null,
       "layout": "IPY_MODEL_ba431f20996149fc8e95c692fb162640",
       "placeholder": "​",
       "style": "IPY_MODEL_c0a656f8d34f4c569d366b3622a6ef09",
       "value": " 0.04MB of 0.04MB uploaded (0.00MB deduped)\r"
      }
     },
     "f9ba5889dfeb4a07a4cfb9c891f3aec7": {
      "model_module": "@jupyter-widgets/controls",
      "model_module_version": "1.5.0",
      "model_name": "ProgressStyleModel",
      "state": {
       "_model_module": "@jupyter-widgets/controls",
       "_model_module_version": "1.5.0",
       "_model_name": "ProgressStyleModel",
       "_view_count": null,
       "_view_module": "@jupyter-widgets/base",
       "_view_module_version": "1.2.0",
       "_view_name": "StyleView",
       "bar_color": null,
       "description_width": ""
      }
     }
    },
    "version_major": 2,
    "version_minor": 0
   }
  }
 },
 "nbformat": 4,
 "nbformat_minor": 4
}
